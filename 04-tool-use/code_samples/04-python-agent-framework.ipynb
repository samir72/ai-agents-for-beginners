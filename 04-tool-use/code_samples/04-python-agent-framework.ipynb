{
  "cells": [
    {
      "cell_type": "markdown",
      "id": "8744544f",
      "metadata": {},
      "source": [
        "# 🛠️ Advanced Tool Use with GitHub Models (Python)\n",
        "\n",
        "## 📋 Learning Objectives\n",
        "\n",
        "This notebook demonstrates advanced tool integration patterns using the Microsoft Agent Framework with GitHub Models. You'll learn how to create, manage, and orchestrate multiple tools to build sophisticated agent capabilities.\n",
        "\n",
        "**What You'll Master:**\n",
        "- 🔧 **Multi-Tool Architecture**: Building agents with multiple specialized tools\n",
        "- 🎯 **Tool Selection Logic**: How agents choose the right tool for each task\n",
        "- 📊 **Data Processing Tools**: Creating tools that handle different data types\n",
        "- 🔗 **Tool Composition**: Combining tools for complex workflows\n",
        "\n",
        "## 🎯 Key Tool Patterns\n",
        "\n",
        "### Tool Design Principles\n",
        "- **Single Responsibility**: Each tool has a clear, focused purpose\n",
        "- **Type Safety**: Strong typing for reliable tool execution\n",
        "- **Error Handling**: Graceful failure and recovery patterns\n",
        "- **Composability**: Tools that work well together\n",
        "\n",
        "### Advanced Tool Features\n",
        "- **Context Awareness**: Tools that understand conversation context\n",
        "- **Data Validation**: Input sanitization and output validation\n",
        "- **Performance Optimization**: efficient tool execution patterns\n",
        "- **Extensibility**: Easy addition of new tool capabilities\n",
        "\n",
        "## 🔧 Technical Architecture\n",
        "\n",
        "### Core Components\n",
        "- **Microsoft Agent Framework**: Python implementation with advanced tool support\n",
        "- **GitHub Models Integration**: High-performance language model access\n",
        "- **Tool Registry System**: Organized management of agent capabilities\n",
        "- **Error Recovery Patterns**: Robust handling of tool execution failures\n",
        "\n",
        "### Tool Integration Flow\n",
        "```python\n",
        "User Request → Agent Analysis → Tool Selection → Tool Execution → Response Synthesis\n",
        "```\n",
        "\n",
        "## 🛠️ Tool Categories Demonstrated\n",
        "\n",
        "### 1. **Data Generation Tools**\n",
        "- Random destination generator\n",
        "- Weather information provider  \n",
        "- Travel cost calculator\n",
        "- Activity recommendation engine\n",
        "\n",
        "### 2. **Processing Tools**\n",
        "- Text formatting and validation\n",
        "- Data transformation utilities\n",
        "- Content analysis functions\n",
        "- Response enhancement tools\n",
        "\n",
        "### 3. **Integration Tools**\n",
        "- External API connectors\n",
        "- File system operations\n",
        "- Database query interfaces\n",
        "- Web scraping utilities\n",
        "\n",
        "## ⚙️ Prerequisites & Setup\n",
        "\n",
        "\n",
        "**Required Dependencies:**\n",
        "```bash\n",
        "\n",
        "pip install agent-framework-core -U\n",
        "```\n",
        "\n",
        "**Environment Configuration (.env file):**\n",
        "```env\n",
        "GITHUB_TOKEN=your_github_personal_access_token\n",
        "GITHUB_ENDPOINT=https://models.inference.ai.azure.com\n",
        "GITHUB_MODEL_ID=gpt-4o-mini\n",
        "```\n",
        "\n",
        "**Optional APIs:**\n",
        "- Weather service API key (for weather tools)\n",
        "- Currency conversion API access\n",
        "- Travel information service credentials\n",
        "\n",
        "## 🎨 Design Patterns\n",
        "\n",
        "### Tool Factory Pattern\n",
        "- Centralized tool creation and configuration\n",
        "- Consistent tool interface design\n",
        "- Easy tool registration and discovery\n",
        "\n",
        "### Command Pattern\n",
        "- Encapsulated tool execution logic\n",
        "- Undo/redo functionality for complex operations\n",
        "- Audit logging for tool usage\n",
        "\n",
        "### Observer Pattern\n",
        "- Tool execution monitoring\n",
        "- Performance metrics collection\n",
        "- Error reporting and alerting\n",
        "\n",
        "## 🚀 Best Practices\n",
        "\n",
        "- **Tool Documentation**: Clear descriptions for agent understanding\n",
        "- **Input Validation**: Robust parameter checking and sanitization\n",
        "- **Output Formatting**: Consistent, parseable tool responses\n",
        "- **Error Messages**: Helpful error information for debugging\n",
        "- **Performance**: Optimized tool execution for responsiveness\n",
        "\n",
        "Ready to build agents with powerful tool capabilities? Let's create something amazing! ⚡"
      ]
    },
    {
      "cell_type": "code",
      "execution_count": 1,
      "id": "59c0feeb",
      "metadata": {},
      "outputs": [
        {
          "name": "stdout",
          "output_type": "stream",
          "text": [
            "Requirement already satisfied: agent-framework-core in /Users/sayedarizvi/ai-agents-for-beginners/venv/lib/python3.13/site-packages (1.0.0b251001)\n",
            "Requirement already satisfied: openai>=1.99.0 in /Users/sayedarizvi/ai-agents-for-beginners/venv/lib/python3.13/site-packages (from agent-framework-core) (2.2.0)\n",
            "Requirement already satisfied: pydantic<3,>=2 in /Users/sayedarizvi/ai-agents-for-beginners/venv/lib/python3.13/site-packages (from agent-framework-core) (2.11.10)\n",
            "Requirement already satisfied: pydantic-settings<3,>=2 in /Users/sayedarizvi/ai-agents-for-beginners/venv/lib/python3.13/site-packages (from agent-framework-core) (2.11.0)\n",
            "Requirement already satisfied: typing-extensions in /Users/sayedarizvi/ai-agents-for-beginners/venv/lib/python3.13/site-packages (from agent-framework-core) (4.15.0)\n",
            "Requirement already satisfied: opentelemetry-api>=1.24 in /Users/sayedarizvi/ai-agents-for-beginners/venv/lib/python3.13/site-packages (from agent-framework-core) (1.37.0)\n",
            "Requirement already satisfied: opentelemetry-sdk>=1.24 in /Users/sayedarizvi/ai-agents-for-beginners/venv/lib/python3.13/site-packages (from agent-framework-core) (1.37.0)\n",
            "Requirement already satisfied: mcp>=1.13 in /Users/sayedarizvi/ai-agents-for-beginners/venv/lib/python3.13/site-packages (from mcp[ws]>=1.13->agent-framework-core) (1.16.0)\n",
            "Requirement already satisfied: azure-monitor-opentelemetry>=1.7.0 in /Users/sayedarizvi/ai-agents-for-beginners/venv/lib/python3.13/site-packages (from agent-framework-core) (1.8.1)\n",
            "Requirement already satisfied: azure-monitor-opentelemetry-exporter>=1.0.0b41 in /Users/sayedarizvi/ai-agents-for-beginners/venv/lib/python3.13/site-packages (from agent-framework-core) (1.0.0b42)\n",
            "Requirement already satisfied: opentelemetry-exporter-otlp-proto-grpc>=1.36.0 in /Users/sayedarizvi/ai-agents-for-beginners/venv/lib/python3.13/site-packages (from agent-framework-core) (1.37.0)\n",
            "Requirement already satisfied: opentelemetry-semantic-conventions-ai>=0.4.13 in /Users/sayedarizvi/ai-agents-for-beginners/venv/lib/python3.13/site-packages (from agent-framework-core) (0.4.13)\n",
            "Requirement already satisfied: aiofiles>=24.1.0 in /Users/sayedarizvi/ai-agents-for-beginners/venv/lib/python3.13/site-packages (from agent-framework-core) (24.1.0)\n",
            "Requirement already satisfied: azure-identity<2,>=1 in /Users/sayedarizvi/ai-agents-for-beginners/venv/lib/python3.13/site-packages (from agent-framework-core) (1.25.1)\n",
            "Requirement already satisfied: azure-core>=1.31.0 in /Users/sayedarizvi/ai-agents-for-beginners/venv/lib/python3.13/site-packages (from azure-identity<2,>=1->agent-framework-core) (1.35.1)\n",
            "Requirement already satisfied: cryptography>=2.5 in /Users/sayedarizvi/ai-agents-for-beginners/venv/lib/python3.13/site-packages (from azure-identity<2,>=1->agent-framework-core) (46.0.2)\n",
            "Requirement already satisfied: msal>=1.30.0 in /Users/sayedarizvi/ai-agents-for-beginners/venv/lib/python3.13/site-packages (from azure-identity<2,>=1->agent-framework-core) (1.34.0)\n",
            "Requirement already satisfied: msal-extensions>=1.2.0 in /Users/sayedarizvi/ai-agents-for-beginners/venv/lib/python3.13/site-packages (from azure-identity<2,>=1->agent-framework-core) (1.3.1)\n",
            "Requirement already satisfied: annotated-types>=0.6.0 in /Users/sayedarizvi/ai-agents-for-beginners/venv/lib/python3.13/site-packages (from pydantic<3,>=2->agent-framework-core) (0.7.0)\n",
            "Requirement already satisfied: pydantic-core==2.33.2 in /Users/sayedarizvi/ai-agents-for-beginners/venv/lib/python3.13/site-packages (from pydantic<3,>=2->agent-framework-core) (2.33.2)\n",
            "Requirement already satisfied: typing-inspection>=0.4.0 in /Users/sayedarizvi/ai-agents-for-beginners/venv/lib/python3.13/site-packages (from pydantic<3,>=2->agent-framework-core) (0.4.2)\n",
            "Requirement already satisfied: python-dotenv>=0.21.0 in /Users/sayedarizvi/ai-agents-for-beginners/venv/lib/python3.13/site-packages (from pydantic-settings<3,>=2->agent-framework-core) (1.1.1)\n",
            "Requirement already satisfied: requests>=2.21.0 in /Users/sayedarizvi/ai-agents-for-beginners/venv/lib/python3.13/site-packages (from azure-core>=1.31.0->azure-identity<2,>=1->agent-framework-core) (2.32.5)\n",
            "Requirement already satisfied: six>=1.11.0 in /Users/sayedarizvi/ai-agents-for-beginners/venv/lib/python3.13/site-packages (from azure-core>=1.31.0->azure-identity<2,>=1->agent-framework-core) (1.17.0)\n",
            "Requirement already satisfied: azure-core-tracing-opentelemetry~=1.0.0b11 in /Users/sayedarizvi/ai-agents-for-beginners/venv/lib/python3.13/site-packages (from azure-monitor-opentelemetry>=1.7.0->agent-framework-core) (1.0.0b12)\n",
            "Requirement already satisfied: opentelemetry-instrumentation-django~=0.57b0 in /Users/sayedarizvi/ai-agents-for-beginners/venv/lib/python3.13/site-packages (from azure-monitor-opentelemetry>=1.7.0->agent-framework-core) (0.58b0)\n",
            "Requirement already satisfied: opentelemetry-instrumentation-fastapi~=0.57b0 in /Users/sayedarizvi/ai-agents-for-beginners/venv/lib/python3.13/site-packages (from azure-monitor-opentelemetry>=1.7.0->agent-framework-core) (0.58b0)\n",
            "Requirement already satisfied: opentelemetry-instrumentation-flask~=0.57b0 in /Users/sayedarizvi/ai-agents-for-beginners/venv/lib/python3.13/site-packages (from azure-monitor-opentelemetry>=1.7.0->agent-framework-core) (0.58b0)\n",
            "Requirement already satisfied: opentelemetry-instrumentation-psycopg2~=0.57b0 in /Users/sayedarizvi/ai-agents-for-beginners/venv/lib/python3.13/site-packages (from azure-monitor-opentelemetry>=1.7.0->agent-framework-core) (0.58b0)\n",
            "Requirement already satisfied: opentelemetry-instrumentation-requests~=0.57b0 in /Users/sayedarizvi/ai-agents-for-beginners/venv/lib/python3.13/site-packages (from azure-monitor-opentelemetry>=1.7.0->agent-framework-core) (0.58b0)\n",
            "Requirement already satisfied: opentelemetry-instrumentation-urllib~=0.57b0 in /Users/sayedarizvi/ai-agents-for-beginners/venv/lib/python3.13/site-packages (from azure-monitor-opentelemetry>=1.7.0->agent-framework-core) (0.58b0)\n",
            "Requirement already satisfied: opentelemetry-instrumentation-urllib3~=0.57b0 in /Users/sayedarizvi/ai-agents-for-beginners/venv/lib/python3.13/site-packages (from azure-monitor-opentelemetry>=1.7.0->agent-framework-core) (0.58b0)\n",
            "Requirement already satisfied: opentelemetry-resource-detector-azure~=0.1.5 in /Users/sayedarizvi/ai-agents-for-beginners/venv/lib/python3.13/site-packages (from azure-monitor-opentelemetry>=1.7.0->agent-framework-core) (0.1.5)\n",
            "Requirement already satisfied: fixedint==0.1.6 in /Users/sayedarizvi/ai-agents-for-beginners/venv/lib/python3.13/site-packages (from azure-monitor-opentelemetry-exporter>=1.0.0b41->agent-framework-core) (0.1.6)\n",
            "Requirement already satisfied: msrest>=0.6.10 in /Users/sayedarizvi/ai-agents-for-beginners/venv/lib/python3.13/site-packages (from azure-monitor-opentelemetry-exporter>=1.0.0b41->agent-framework-core) (0.7.1)\n",
            "Requirement already satisfied: psutil<8,>=5.9 in /Users/sayedarizvi/ai-agents-for-beginners/venv/lib/python3.13/site-packages (from azure-monitor-opentelemetry-exporter>=1.0.0b41->agent-framework-core) (7.1.0)\n",
            "Requirement already satisfied: importlib-metadata<8.8.0,>=6.0 in /Users/sayedarizvi/ai-agents-for-beginners/venv/lib/python3.13/site-packages (from opentelemetry-api>=1.24->agent-framework-core) (8.7.0)\n",
            "Requirement already satisfied: zipp>=3.20 in /Users/sayedarizvi/ai-agents-for-beginners/venv/lib/python3.13/site-packages (from importlib-metadata<8.8.0,>=6.0->opentelemetry-api>=1.24->agent-framework-core) (3.23.0)\n",
            "Requirement already satisfied: opentelemetry-instrumentation-wsgi==0.58b0 in /Users/sayedarizvi/ai-agents-for-beginners/venv/lib/python3.13/site-packages (from opentelemetry-instrumentation-django~=0.57b0->azure-monitor-opentelemetry>=1.7.0->agent-framework-core) (0.58b0)\n",
            "Requirement already satisfied: opentelemetry-instrumentation==0.58b0 in /Users/sayedarizvi/ai-agents-for-beginners/venv/lib/python3.13/site-packages (from opentelemetry-instrumentation-django~=0.57b0->azure-monitor-opentelemetry>=1.7.0->agent-framework-core) (0.58b0)\n",
            "Requirement already satisfied: opentelemetry-semantic-conventions==0.58b0 in /Users/sayedarizvi/ai-agents-for-beginners/venv/lib/python3.13/site-packages (from opentelemetry-instrumentation-django~=0.57b0->azure-monitor-opentelemetry>=1.7.0->agent-framework-core) (0.58b0)\n",
            "Requirement already satisfied: opentelemetry-util-http==0.58b0 in /Users/sayedarizvi/ai-agents-for-beginners/venv/lib/python3.13/site-packages (from opentelemetry-instrumentation-django~=0.57b0->azure-monitor-opentelemetry>=1.7.0->agent-framework-core) (0.58b0)\n",
            "Requirement already satisfied: packaging>=18.0 in /Users/sayedarizvi/ai-agents-for-beginners/venv/lib/python3.13/site-packages (from opentelemetry-instrumentation==0.58b0->opentelemetry-instrumentation-django~=0.57b0->azure-monitor-opentelemetry>=1.7.0->agent-framework-core) (25.0)\n",
            "Requirement already satisfied: wrapt<2.0.0,>=1.0.0 in /Users/sayedarizvi/ai-agents-for-beginners/venv/lib/python3.13/site-packages (from opentelemetry-instrumentation==0.58b0->opentelemetry-instrumentation-django~=0.57b0->azure-monitor-opentelemetry>=1.7.0->agent-framework-core) (1.17.3)\n",
            "Requirement already satisfied: opentelemetry-instrumentation-asgi==0.58b0 in /Users/sayedarizvi/ai-agents-for-beginners/venv/lib/python3.13/site-packages (from opentelemetry-instrumentation-fastapi~=0.57b0->azure-monitor-opentelemetry>=1.7.0->agent-framework-core) (0.58b0)\n",
            "Requirement already satisfied: asgiref~=3.0 in /Users/sayedarizvi/ai-agents-for-beginners/venv/lib/python3.13/site-packages (from opentelemetry-instrumentation-asgi==0.58b0->opentelemetry-instrumentation-fastapi~=0.57b0->azure-monitor-opentelemetry>=1.7.0->agent-framework-core) (3.10.0)\n",
            "Requirement already satisfied: opentelemetry-instrumentation-dbapi==0.58b0 in /Users/sayedarizvi/ai-agents-for-beginners/venv/lib/python3.13/site-packages (from opentelemetry-instrumentation-psycopg2~=0.57b0->azure-monitor-opentelemetry>=1.7.0->agent-framework-core) (0.58b0)\n",
            "Requirement already satisfied: cffi>=2.0.0 in /Users/sayedarizvi/ai-agents-for-beginners/venv/lib/python3.13/site-packages (from cryptography>=2.5->azure-identity<2,>=1->agent-framework-core) (2.0.0)\n",
            "Requirement already satisfied: pycparser in /Users/sayedarizvi/ai-agents-for-beginners/venv/lib/python3.13/site-packages (from cffi>=2.0.0->cryptography>=2.5->azure-identity<2,>=1->agent-framework-core) (2.23)\n",
            "Requirement already satisfied: anyio>=4.5 in /Users/sayedarizvi/ai-agents-for-beginners/venv/lib/python3.13/site-packages (from mcp>=1.13->mcp[ws]>=1.13->agent-framework-core) (4.11.0)\n",
            "Requirement already satisfied: httpx-sse>=0.4 in /Users/sayedarizvi/ai-agents-for-beginners/venv/lib/python3.13/site-packages (from mcp>=1.13->mcp[ws]>=1.13->agent-framework-core) (0.4.1)\n",
            "Requirement already satisfied: httpx>=0.27.1 in /Users/sayedarizvi/ai-agents-for-beginners/venv/lib/python3.13/site-packages (from mcp>=1.13->mcp[ws]>=1.13->agent-framework-core) (0.28.1)\n",
            "Requirement already satisfied: jsonschema>=4.20.0 in /Users/sayedarizvi/ai-agents-for-beginners/venv/lib/python3.13/site-packages (from mcp>=1.13->mcp[ws]>=1.13->agent-framework-core) (4.25.1)\n",
            "Requirement already satisfied: python-multipart>=0.0.9 in /Users/sayedarizvi/ai-agents-for-beginners/venv/lib/python3.13/site-packages (from mcp>=1.13->mcp[ws]>=1.13->agent-framework-core) (0.0.20)\n",
            "Requirement already satisfied: sse-starlette>=1.6.1 in /Users/sayedarizvi/ai-agents-for-beginners/venv/lib/python3.13/site-packages (from mcp>=1.13->mcp[ws]>=1.13->agent-framework-core) (3.0.2)\n",
            "Requirement already satisfied: starlette>=0.27 in /Users/sayedarizvi/ai-agents-for-beginners/venv/lib/python3.13/site-packages (from mcp>=1.13->mcp[ws]>=1.13->agent-framework-core) (0.48.0)\n",
            "Requirement already satisfied: uvicorn>=0.31.1 in /Users/sayedarizvi/ai-agents-for-beginners/venv/lib/python3.13/site-packages (from mcp>=1.13->mcp[ws]>=1.13->agent-framework-core) (0.37.0)\n",
            "Requirement already satisfied: idna>=2.8 in /Users/sayedarizvi/ai-agents-for-beginners/venv/lib/python3.13/site-packages (from anyio>=4.5->mcp>=1.13->mcp[ws]>=1.13->agent-framework-core) (3.10)\n",
            "Requirement already satisfied: sniffio>=1.1 in /Users/sayedarizvi/ai-agents-for-beginners/venv/lib/python3.13/site-packages (from anyio>=4.5->mcp>=1.13->mcp[ws]>=1.13->agent-framework-core) (1.3.1)\n",
            "Requirement already satisfied: certifi in /Users/sayedarizvi/ai-agents-for-beginners/venv/lib/python3.13/site-packages (from httpx>=0.27.1->mcp>=1.13->mcp[ws]>=1.13->agent-framework-core) (2025.10.5)\n",
            "Requirement already satisfied: httpcore==1.* in /Users/sayedarizvi/ai-agents-for-beginners/venv/lib/python3.13/site-packages (from httpx>=0.27.1->mcp>=1.13->mcp[ws]>=1.13->agent-framework-core) (1.0.9)\n",
            "Requirement already satisfied: h11>=0.16 in /Users/sayedarizvi/ai-agents-for-beginners/venv/lib/python3.13/site-packages (from httpcore==1.*->httpx>=0.27.1->mcp>=1.13->mcp[ws]>=1.13->agent-framework-core) (0.16.0)\n",
            "Requirement already satisfied: attrs>=22.2.0 in /Users/sayedarizvi/ai-agents-for-beginners/venv/lib/python3.13/site-packages (from jsonschema>=4.20.0->mcp>=1.13->mcp[ws]>=1.13->agent-framework-core) (25.4.0)\n",
            "Requirement already satisfied: jsonschema-specifications>=2023.03.6 in /Users/sayedarizvi/ai-agents-for-beginners/venv/lib/python3.13/site-packages (from jsonschema>=4.20.0->mcp>=1.13->mcp[ws]>=1.13->agent-framework-core) (2025.9.1)\n",
            "Requirement already satisfied: referencing>=0.28.4 in /Users/sayedarizvi/ai-agents-for-beginners/venv/lib/python3.13/site-packages (from jsonschema>=4.20.0->mcp>=1.13->mcp[ws]>=1.13->agent-framework-core) (0.36.2)\n",
            "Requirement already satisfied: rpds-py>=0.7.1 in /Users/sayedarizvi/ai-agents-for-beginners/venv/lib/python3.13/site-packages (from jsonschema>=4.20.0->mcp>=1.13->mcp[ws]>=1.13->agent-framework-core) (0.27.1)\n",
            "Requirement already satisfied: websockets>=15.0.1 in /Users/sayedarizvi/ai-agents-for-beginners/venv/lib/python3.13/site-packages (from mcp[ws]>=1.13->agent-framework-core) (15.0.1)\n",
            "Requirement already satisfied: PyJWT<3,>=1.0.0 in /Users/sayedarizvi/ai-agents-for-beginners/venv/lib/python3.13/site-packages (from PyJWT[crypto]<3,>=1.0.0->msal>=1.30.0->azure-identity<2,>=1->agent-framework-core) (2.10.1)\n",
            "Requirement already satisfied: charset_normalizer<4,>=2 in /Users/sayedarizvi/ai-agents-for-beginners/venv/lib/python3.13/site-packages (from requests>=2.21.0->azure-core>=1.31.0->azure-identity<2,>=1->agent-framework-core) (3.4.3)\n",
            "Requirement already satisfied: urllib3<3,>=1.21.1 in /Users/sayedarizvi/ai-agents-for-beginners/venv/lib/python3.13/site-packages (from requests>=2.21.0->azure-core>=1.31.0->azure-identity<2,>=1->agent-framework-core) (2.5.0)\n",
            "Requirement already satisfied: isodate>=0.6.0 in /Users/sayedarizvi/ai-agents-for-beginners/venv/lib/python3.13/site-packages (from msrest>=0.6.10->azure-monitor-opentelemetry-exporter>=1.0.0b41->agent-framework-core) (0.7.2)\n",
            "Requirement already satisfied: requests-oauthlib>=0.5.0 in /Users/sayedarizvi/ai-agents-for-beginners/venv/lib/python3.13/site-packages (from msrest>=0.6.10->azure-monitor-opentelemetry-exporter>=1.0.0b41->agent-framework-core) (2.0.0)\n",
            "Requirement already satisfied: distro<2,>=1.7.0 in /Users/sayedarizvi/ai-agents-for-beginners/venv/lib/python3.13/site-packages (from openai>=1.99.0->agent-framework-core) (1.9.0)\n",
            "Requirement already satisfied: jiter<1,>=0.4.0 in /Users/sayedarizvi/ai-agents-for-beginners/venv/lib/python3.13/site-packages (from openai>=1.99.0->agent-framework-core) (0.11.0)\n",
            "Requirement already satisfied: tqdm>4 in /Users/sayedarizvi/ai-agents-for-beginners/venv/lib/python3.13/site-packages (from openai>=1.99.0->agent-framework-core) (4.67.1)\n",
            "Requirement already satisfied: googleapis-common-protos~=1.57 in /Users/sayedarizvi/ai-agents-for-beginners/venv/lib/python3.13/site-packages (from opentelemetry-exporter-otlp-proto-grpc>=1.36.0->agent-framework-core) (1.70.0)\n",
            "Requirement already satisfied: grpcio<2.0.0,>=1.66.2 in /Users/sayedarizvi/ai-agents-for-beginners/venv/lib/python3.13/site-packages (from opentelemetry-exporter-otlp-proto-grpc>=1.36.0->agent-framework-core) (1.75.1)\n",
            "Requirement already satisfied: opentelemetry-exporter-otlp-proto-common==1.37.0 in /Users/sayedarizvi/ai-agents-for-beginners/venv/lib/python3.13/site-packages (from opentelemetry-exporter-otlp-proto-grpc>=1.36.0->agent-framework-core) (1.37.0)\n",
            "Requirement already satisfied: opentelemetry-proto==1.37.0 in /Users/sayedarizvi/ai-agents-for-beginners/venv/lib/python3.13/site-packages (from opentelemetry-exporter-otlp-proto-grpc>=1.36.0->agent-framework-core) (1.37.0)\n",
            "Requirement already satisfied: protobuf<7.0,>=5.0 in /Users/sayedarizvi/ai-agents-for-beginners/venv/lib/python3.13/site-packages (from opentelemetry-proto==1.37.0->opentelemetry-exporter-otlp-proto-grpc>=1.36.0->agent-framework-core) (6.32.1)\n",
            "Requirement already satisfied: oauthlib>=3.0.0 in /Users/sayedarizvi/ai-agents-for-beginners/venv/lib/python3.13/site-packages (from requests-oauthlib>=0.5.0->msrest>=0.6.10->azure-monitor-opentelemetry-exporter>=1.0.0b41->agent-framework-core) (3.3.1)\n",
            "Requirement already satisfied: click>=7.0 in /Users/sayedarizvi/ai-agents-for-beginners/venv/lib/python3.13/site-packages (from uvicorn>=0.31.1->mcp>=1.13->mcp[ws]>=1.13->agent-framework-core) (8.3.0)\n"
          ]
        }
      ],
      "source": [
        "! pip install agent-framework-core -U"
      ]
    },
    {
      "cell_type": "code",
      "execution_count": 2,
      "id": "c0df8a52",
      "metadata": {},
      "outputs": [],
      "source": [
        "# � Import core dependencies for Agent Framework and tool integration\n",
        "# This sets up the essential libraries for building intelligent agents with tool capabilities\n",
        "\n",
        "import asyncio\n",
        "import os\n",
        "import json\n",
        "\n",
        "from dotenv import load_dotenv  # For loading environment variables securely\n",
        "from random import randint\n",
        "\n",
        "# These are the core components for building tool-enabled agents\n",
        "from agent_framework import ChatAgent           # Main agent class\n",
        "from agent_framework.openai import OpenAIChatClient  # OpenAI-compatible client"
      ]
    },
    {
      "cell_type": "code",
      "execution_count": 3,
      "id": "24c10eb0",
      "metadata": {},
      "outputs": [
        {
          "data": {
            "text/plain": [
              "True"
            ]
          },
          "execution_count": 3,
          "metadata": {},
          "output_type": "execute_result"
        }
      ],
      "source": [
        "load_dotenv()"
      ]
    },
    {
      "cell_type": "code",
      "execution_count": 4,
      "id": "151e0314",
      "metadata": {},
      "outputs": [
        {
          "name": "stdout",
          "output_type": "stream",
          "text": [
            "GITHUB_ENDPOINT: https://models.inference.ai.azure.com\n",
            "GITHUB_TOKEN: ***\n",
            "GITHUB_MODEL_ID: gpt-4o-mini\n"
          ]
        }
      ],
      "source": [
        "# 🔑 Environment variables verification\n",
        "# Ensure all required GitHub Models credentials are properly configured\n",
        "print(\"GITHUB_ENDPOINT:\", os.environ.get(\"GITHUB_ENDPOINT\"))\n",
        "print(\"GITHUB_TOKEN:\", \"***\" if os.environ.get(\"GITHUB_TOKEN\") else \"Not set\")\n",
        "print(\"GITHUB_MODEL_ID:\", os.environ.get(\"GITHUB_MODEL_ID\"))"
      ]
    },
    {
      "cell_type": "code",
      "execution_count": 5,
      "id": "a6141584",
      "metadata": {},
      "outputs": [],
      "source": [
        "# 🧪 Test GitHub Models connectivity\n",
        "openai_chat_client = OpenAIChatClient(base_url=os.environ.get(\"GITHUB_ENDPOINT\"), api_key=os.environ.get(\"GITHUB_TOKEN\"), model_id=os.environ.get(\"GITHUB_MODEL_ID\"))"
      ]
    },
    {
      "cell_type": "code",
      "execution_count": 6,
      "id": "a6507f83",
      "metadata": {},
      "outputs": [],
      "source": [
        "# 🛠️ Define travel planning tools for agent integration\n",
        "# These functions provide specific capabilities that the agent can invoke dynamically\n",
        "\n",
        "def get_random_destination() -> str:\n",
        "    \"\"\"\n",
        "    🎲 Random destination generator tool\n",
        "    Returns a randomly selected travel destination from curated list\n",
        "    Useful when customers need inspiration for their next vacation\n",
        "    \"\"\"\n",
        "    destinations = [\n",
        "        \"Paris, France\",\n",
        "        \"Tokyo, Japan\", \n",
        "        \"New York City, USA\",\n",
        "        \"London, England\",\n",
        "        \"Rome, Italy\",\n",
        "        \"Sydney, Australia\",\n",
        "        \"Dubai, UAE\",\n",
        "        \"Barcelona, Spain\",\n",
        "        \"Bangkok, Thailand\",\n",
        "        \"Amsterdam, Netherlands\",\n",
        "        \"Istanbul, Turkey\",\n",
        "        \"Prague, Czech Republic\",\n",
        "        \"Santorini, Greece\",\n",
        "        \"Reykjavik, Iceland\",\n",
        "        \"Marrakech, Morocco\",\n",
        "        \"Cape Town, South Africa\",\n",
        "        \"Rio de Janeiro, Brazil\",\n",
        "        \"Bali, Indonesia\"\n",
        "        \"Lucknow, India\",\n",
        "    ]\n",
        "    # 🎯 Return random selection from the curated destination list\n",
        "    return destinations[randint(0, len(destinations) - 1)]"
      ]
    },
    {
      "cell_type": "code",
      "execution_count": 7,
      "id": "5d4f0568",
      "metadata": {},
      "outputs": [],
      "source": [
        "# 🔗 Initialize GitHub Models chat client for agent communication\n",
        "# Creates the primary interface between the agent and the language model\n",
        "openai_chat_client = OpenAIChatClient(base_url=os.environ.get(\"GITHUB_ENDPOINT\"), api_key=os.environ.get(\"GITHUB_TOKEN\"), model_id=os.environ.get(\"GITHUB_MODEL_ID\"))"
      ]
    },
    {
      "cell_type": "code",
      "execution_count": 8,
      "id": "751668c5",
      "metadata": {},
      "outputs": [],
      "source": [
        "# 🤖 Configure travel agent identity and behavioral instructions\n",
        "# Define the agent's personality, capabilities, and operational guidelines\n",
        "\n",
        "AGENT_NAME = \"TravelAgent\"\n",
        "\n",
        "AGENT_INSTRUCTIONS = \"\"\"You are a helpful AI Agent that can help plan vacations for customers at random destinations\n",
        "\"\"\""
      ]
    },
    {
      "cell_type": "code",
      "execution_count": 9,
      "id": "be18ac4f",
      "metadata": {},
      "outputs": [],
      "source": [
        "agent = ChatAgent(\n",
        "        name = AGENT_NAME,\n",
        "        chat_client=openai_chat_client,\n",
        "        instructions=AGENT_INSTRUCTIONS,\n",
        "        tools=[get_random_destination]\n",
        ")"
      ]
    },
    {
      "cell_type": "code",
      "execution_count": 10,
      "id": "772e9481",
      "metadata": {},
      "outputs": [],
      "source": [
        "thread = agent.get_new_thread()"
      ]
    },
    {
      "cell_type": "code",
      "execution_count": 11,
      "id": "a731b547",
      "metadata": {},
      "outputs": [],
      "source": [
        "response1 = await agent.run(\"Plan me a day trip\",thread= thread)"
      ]
    },
    {
      "cell_type": "code",
      "execution_count": 12,
      "id": "7d3fe00a",
      "metadata": {},
      "outputs": [
        {
          "name": "stdout",
          "output_type": "stream",
          "text": [
            "Travel plan:\n",
            "How about a day trip to Bangkok, Thailand? Here’s a suggested itinerary for your day:\n",
            "\n",
            "### Morning:\n",
            "- **Breakfast**: Start your day with a traditional Thai breakfast at a local eatery. Try **Jok** (rice porridge) or **Khao Tom** (rice soup).\n",
            "- **Grand Palace**: Visit the stunning Grand Palace, the former residence of the Kings of Thailand. Don’t miss the Emerald Buddha temple.\n",
            "\n",
            "### Afternoon:\n",
            "- **Wat Pho**: Head to Wat Pho to see the famous Reclining Buddha and get a traditional Thai massage at the temple.\n",
            "- **Lunch**: Enjoy lunch at a nearby restaurant. Try some local dishes like **Pad Thai** or **Green Curry**.\n",
            "\n",
            "### Evening:\n",
            "- **Chao Phraya River Cruise**: Take a scenic boat ride along the Chao Phraya River to see the city from a different perspective.\n",
            "- **Dinner in Chinatown**: End your day in Yaowarat, Bangkok’s Chinatown, where you can experience street food and local delicacies under vibrant neon lights.\n",
            "\n",
            "### Optional:\n",
            "- If time permits, visit the bustling markets like Chatuchak Market or explore the art scene in Bangkok.\n",
            "\n",
            "Enjoy your day in Bangkok! If you need more details or customization for your trip, just let me know.\n"
          ]
        }
      ],
      "source": [
        "\n",
        "last_message = response1.messages[-1]\n",
        "text_content = last_message.contents[0].text\n",
        "print(\"Travel plan:\")\n",
        "print(text_content)"
      ]
    }
  ],
  "metadata": {
    "kernelspec": {
      "display_name": "venv",
      "language": "python",
      "name": "python3"
    },
    "language_info": {
      "codemirror_mode": {
        "name": "ipython",
        "version": 3
      },
      "file_extension": ".py",
      "mimetype": "text/x-python",
      "name": "python",
      "nbconvert_exporter": "python",
      "pygments_lexer": "ipython3",
      "version": "3.13.4"
    },
    "polyglot_notebook": {
      "kernelInfo": {
        "defaultKernelName": "csharp",
        "items": [
          {
            "aliases": [],
            "name": "csharp"
          }
        ]
      }
    }
  },
  "nbformat": 4,
  "nbformat_minor": 5
}
