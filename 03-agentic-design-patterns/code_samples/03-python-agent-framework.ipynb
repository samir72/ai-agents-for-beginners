{
  "cells": [
    {
      "cell_type": "markdown",
      "id": "2012ea09",
      "metadata": {},
      "source": [
        "# 🎨 Agentic Design Patterns with GitHub Models (Python)\n",
        "\n",
        "## 📋 Learning Objectives\n",
        "\n",
        "This notebook demonstrates essential design patterns for building intelligent agents using the Microsoft Agent Framework with GitHub Models integration. You'll learn proven patterns and architectural approaches that make agents more robust, maintainable, and effective.\n",
        "\n",
        "**Core Design Patterns Covered:**\n",
        "- 🏗️ **Agent Factory Pattern**: Standardized agent creation and configuration\n",
        "- 🔧 **Tool Registry Pattern**: Organized approach to managing agent capabilities\n",
        "- 🧵 **Conversation Management**: Effective patterns for multi-turn interactions\n",
        "- 🔄 **Response Processing**: Best practices for handling agent outputs\n",
        "\n",
        "## 🎯 Key Architectural Concepts\n",
        "\n",
        "### Design Principles\n",
        "- **Separation of Concerns**: Clear boundaries between agent logic, tools, and configuration\n",
        "- **Composability**: Building complex agents from reusable components\n",
        "- **Extensibility**: Patterns that allow easy addition of new capabilities\n",
        "- **Testability**: Design for easy unit testing and validation\n",
        "\n",
        "### GitHub Models Integration\n",
        "- **API Compatibility**: Leveraging OpenAI-compatible endpoints\n",
        "- **Model Selection**: Choosing appropriate models for different use cases\n",
        "- **Rate Limiting**: Handling API constraints gracefully\n",
        "- **Error Recovery**: Robust error handling and retry patterns\n",
        "\n",
        "## 🔧 Technical Architecture\n",
        "\n",
        "### Core Components\n",
        "- **Microsoft Agent Framework**: Python implementation with GitHub Models support\n",
        "- **GitHub Models API**: Access to state-of-the-art language models\n",
        "- **OpenAI Client Pattern**: Standardized API interaction patterns\n",
        "- **Environment Configuration**: Secure and flexible configuration management\n",
        "\n",
        "### Design Pattern Benefits\n",
        "- **Maintainability**: Clear code organization and structure\n",
        "- **Scalability**: Patterns that grow with your application needs\n",
        "- **Reliability**: Proven approaches that handle edge cases\n",
        "- **Performance**: Efficient resource utilization and API usage\n",
        "\n",
        "## ⚙️ Prerequisites & Setup\n",
        "\n",
        "**Required Dependencies:**\n",
        "```bash\n",
        "\n",
        "pip install agent-framework-core  -U\n",
        "\n",
        "```\n",
        "\n",
        "**Environment Configuration (.env file):**\n",
        "```env\n",
        "GITHUB_TOKEN=your_github_personal_access_token\n",
        "GITHUB_ENDPOINT=https://models.inference.ai.azure.com\n",
        "GITHUB_MODEL_ID=gpt-4o-mini\n",
        "```\n",
        "\n",
        "**GitHub Models Access:**\n",
        "- GitHub account with Models access\n",
        "- Personal access token with appropriate permissions\n",
        "- Understanding of rate limits and usage patterns\n",
        "\n",
        "## 📚 Design Pattern Categories\n",
        "\n",
        "### 1. **Creational Patterns**\n",
        "- Agent factory and builder patterns\n",
        "- Configuration management patterns\n",
        "- Dependency injection for agent services\n",
        "\n",
        "### 2. **Behavioral Patterns**\n",
        "- Tool execution and orchestration\n",
        "- Conversation flow management  \n",
        "- Response processing and formatting\n",
        "\n",
        "### 3. **Integration Patterns**\n",
        "- GitHub Models API integration\n",
        "- Error handling and retry logic\n",
        "- Resource management and cleanup\n",
        "\n",
        "## 🚀 Best Practices Demonstrated\n",
        "\n",
        "- **Clean Architecture**: Layered design with clear responsibilities\n",
        "- **Error Handling**: Comprehensive exception management\n",
        "- **Configuration**: Environment-based setup for different environments\n",
        "- **Testing**: Patterns that enable effective unit and integration testing\n",
        "- **Documentation**: Self-documenting code with clear intent\n",
        "\n",
        "Ready to explore professional agent design patterns? Let's build something robust! 🌟"
      ]
    },
    {
      "cell_type": "code",
      "execution_count": 1,
      "id": "d9feb817",
      "metadata": {},
      "outputs": [
        {
          "name": "stdout",
          "output_type": "stream",
          "text": [
            "Requirement already satisfied: agent-framework-core in /Users/sayedarizvi/ai-agents-for-beginners/venv/lib/python3.13/site-packages (1.0.0b251001)\n",
            "Requirement already satisfied: openai>=1.99.0 in /Users/sayedarizvi/ai-agents-for-beginners/venv/lib/python3.13/site-packages (from agent-framework-core) (2.2.0)\n",
            "Requirement already satisfied: pydantic<3,>=2 in /Users/sayedarizvi/ai-agents-for-beginners/venv/lib/python3.13/site-packages (from agent-framework-core) (2.11.10)\n",
            "Requirement already satisfied: pydantic-settings<3,>=2 in /Users/sayedarizvi/ai-agents-for-beginners/venv/lib/python3.13/site-packages (from agent-framework-core) (2.11.0)\n",
            "Requirement already satisfied: typing-extensions in /Users/sayedarizvi/ai-agents-for-beginners/venv/lib/python3.13/site-packages (from agent-framework-core) (4.15.0)\n",
            "Requirement already satisfied: opentelemetry-api>=1.24 in /Users/sayedarizvi/ai-agents-for-beginners/venv/lib/python3.13/site-packages (from agent-framework-core) (1.37.0)\n",
            "Requirement already satisfied: opentelemetry-sdk>=1.24 in /Users/sayedarizvi/ai-agents-for-beginners/venv/lib/python3.13/site-packages (from agent-framework-core) (1.37.0)\n",
            "Requirement already satisfied: mcp>=1.13 in /Users/sayedarizvi/ai-agents-for-beginners/venv/lib/python3.13/site-packages (from mcp[ws]>=1.13->agent-framework-core) (1.16.0)\n",
            "Requirement already satisfied: azure-monitor-opentelemetry>=1.7.0 in /Users/sayedarizvi/ai-agents-for-beginners/venv/lib/python3.13/site-packages (from agent-framework-core) (1.8.1)\n",
            "Requirement already satisfied: azure-monitor-opentelemetry-exporter>=1.0.0b41 in /Users/sayedarizvi/ai-agents-for-beginners/venv/lib/python3.13/site-packages (from agent-framework-core) (1.0.0b42)\n",
            "Requirement already satisfied: opentelemetry-exporter-otlp-proto-grpc>=1.36.0 in /Users/sayedarizvi/ai-agents-for-beginners/venv/lib/python3.13/site-packages (from agent-framework-core) (1.37.0)\n",
            "Requirement already satisfied: opentelemetry-semantic-conventions-ai>=0.4.13 in /Users/sayedarizvi/ai-agents-for-beginners/venv/lib/python3.13/site-packages (from agent-framework-core) (0.4.13)\n",
            "Requirement already satisfied: aiofiles>=24.1.0 in /Users/sayedarizvi/ai-agents-for-beginners/venv/lib/python3.13/site-packages (from agent-framework-core) (24.1.0)\n",
            "Requirement already satisfied: azure-identity<2,>=1 in /Users/sayedarizvi/ai-agents-for-beginners/venv/lib/python3.13/site-packages (from agent-framework-core) (1.25.1)\n",
            "Requirement already satisfied: azure-core>=1.31.0 in /Users/sayedarizvi/ai-agents-for-beginners/venv/lib/python3.13/site-packages (from azure-identity<2,>=1->agent-framework-core) (1.35.1)\n",
            "Requirement already satisfied: cryptography>=2.5 in /Users/sayedarizvi/ai-agents-for-beginners/venv/lib/python3.13/site-packages (from azure-identity<2,>=1->agent-framework-core) (46.0.2)\n",
            "Requirement already satisfied: msal>=1.30.0 in /Users/sayedarizvi/ai-agents-for-beginners/venv/lib/python3.13/site-packages (from azure-identity<2,>=1->agent-framework-core) (1.34.0)\n",
            "Requirement already satisfied: msal-extensions>=1.2.0 in /Users/sayedarizvi/ai-agents-for-beginners/venv/lib/python3.13/site-packages (from azure-identity<2,>=1->agent-framework-core) (1.3.1)\n",
            "Requirement already satisfied: annotated-types>=0.6.0 in /Users/sayedarizvi/ai-agents-for-beginners/venv/lib/python3.13/site-packages (from pydantic<3,>=2->agent-framework-core) (0.7.0)\n",
            "Requirement already satisfied: pydantic-core==2.33.2 in /Users/sayedarizvi/ai-agents-for-beginners/venv/lib/python3.13/site-packages (from pydantic<3,>=2->agent-framework-core) (2.33.2)\n",
            "Requirement already satisfied: typing-inspection>=0.4.0 in /Users/sayedarizvi/ai-agents-for-beginners/venv/lib/python3.13/site-packages (from pydantic<3,>=2->agent-framework-core) (0.4.2)\n",
            "Requirement already satisfied: python-dotenv>=0.21.0 in /Users/sayedarizvi/ai-agents-for-beginners/venv/lib/python3.13/site-packages (from pydantic-settings<3,>=2->agent-framework-core) (1.1.1)\n",
            "Requirement already satisfied: requests>=2.21.0 in /Users/sayedarizvi/ai-agents-for-beginners/venv/lib/python3.13/site-packages (from azure-core>=1.31.0->azure-identity<2,>=1->agent-framework-core) (2.32.5)\n",
            "Requirement already satisfied: six>=1.11.0 in /Users/sayedarizvi/ai-agents-for-beginners/venv/lib/python3.13/site-packages (from azure-core>=1.31.0->azure-identity<2,>=1->agent-framework-core) (1.17.0)\n",
            "Requirement already satisfied: azure-core-tracing-opentelemetry~=1.0.0b11 in /Users/sayedarizvi/ai-agents-for-beginners/venv/lib/python3.13/site-packages (from azure-monitor-opentelemetry>=1.7.0->agent-framework-core) (1.0.0b12)\n",
            "Requirement already satisfied: opentelemetry-instrumentation-django~=0.57b0 in /Users/sayedarizvi/ai-agents-for-beginners/venv/lib/python3.13/site-packages (from azure-monitor-opentelemetry>=1.7.0->agent-framework-core) (0.58b0)\n",
            "Requirement already satisfied: opentelemetry-instrumentation-fastapi~=0.57b0 in /Users/sayedarizvi/ai-agents-for-beginners/venv/lib/python3.13/site-packages (from azure-monitor-opentelemetry>=1.7.0->agent-framework-core) (0.58b0)\n",
            "Requirement already satisfied: opentelemetry-instrumentation-flask~=0.57b0 in /Users/sayedarizvi/ai-agents-for-beginners/venv/lib/python3.13/site-packages (from azure-monitor-opentelemetry>=1.7.0->agent-framework-core) (0.58b0)\n",
            "Requirement already satisfied: opentelemetry-instrumentation-psycopg2~=0.57b0 in /Users/sayedarizvi/ai-agents-for-beginners/venv/lib/python3.13/site-packages (from azure-monitor-opentelemetry>=1.7.0->agent-framework-core) (0.58b0)\n",
            "Requirement already satisfied: opentelemetry-instrumentation-requests~=0.57b0 in /Users/sayedarizvi/ai-agents-for-beginners/venv/lib/python3.13/site-packages (from azure-monitor-opentelemetry>=1.7.0->agent-framework-core) (0.58b0)\n",
            "Requirement already satisfied: opentelemetry-instrumentation-urllib~=0.57b0 in /Users/sayedarizvi/ai-agents-for-beginners/venv/lib/python3.13/site-packages (from azure-monitor-opentelemetry>=1.7.0->agent-framework-core) (0.58b0)\n",
            "Requirement already satisfied: opentelemetry-instrumentation-urllib3~=0.57b0 in /Users/sayedarizvi/ai-agents-for-beginners/venv/lib/python3.13/site-packages (from azure-monitor-opentelemetry>=1.7.0->agent-framework-core) (0.58b0)\n",
            "Requirement already satisfied: opentelemetry-resource-detector-azure~=0.1.5 in /Users/sayedarizvi/ai-agents-for-beginners/venv/lib/python3.13/site-packages (from azure-monitor-opentelemetry>=1.7.0->agent-framework-core) (0.1.5)\n",
            "Requirement already satisfied: fixedint==0.1.6 in /Users/sayedarizvi/ai-agents-for-beginners/venv/lib/python3.13/site-packages (from azure-monitor-opentelemetry-exporter>=1.0.0b41->agent-framework-core) (0.1.6)\n",
            "Requirement already satisfied: msrest>=0.6.10 in /Users/sayedarizvi/ai-agents-for-beginners/venv/lib/python3.13/site-packages (from azure-monitor-opentelemetry-exporter>=1.0.0b41->agent-framework-core) (0.7.1)\n",
            "Requirement already satisfied: psutil<8,>=5.9 in /Users/sayedarizvi/ai-agents-for-beginners/venv/lib/python3.13/site-packages (from azure-monitor-opentelemetry-exporter>=1.0.0b41->agent-framework-core) (7.1.0)\n",
            "Requirement already satisfied: importlib-metadata<8.8.0,>=6.0 in /Users/sayedarizvi/ai-agents-for-beginners/venv/lib/python3.13/site-packages (from opentelemetry-api>=1.24->agent-framework-core) (8.7.0)\n",
            "Requirement already satisfied: zipp>=3.20 in /Users/sayedarizvi/ai-agents-for-beginners/venv/lib/python3.13/site-packages (from importlib-metadata<8.8.0,>=6.0->opentelemetry-api>=1.24->agent-framework-core) (3.23.0)\n",
            "Requirement already satisfied: opentelemetry-instrumentation-wsgi==0.58b0 in /Users/sayedarizvi/ai-agents-for-beginners/venv/lib/python3.13/site-packages (from opentelemetry-instrumentation-django~=0.57b0->azure-monitor-opentelemetry>=1.7.0->agent-framework-core) (0.58b0)\n",
            "Requirement already satisfied: opentelemetry-instrumentation==0.58b0 in /Users/sayedarizvi/ai-agents-for-beginners/venv/lib/python3.13/site-packages (from opentelemetry-instrumentation-django~=0.57b0->azure-monitor-opentelemetry>=1.7.0->agent-framework-core) (0.58b0)\n",
            "Requirement already satisfied: opentelemetry-semantic-conventions==0.58b0 in /Users/sayedarizvi/ai-agents-for-beginners/venv/lib/python3.13/site-packages (from opentelemetry-instrumentation-django~=0.57b0->azure-monitor-opentelemetry>=1.7.0->agent-framework-core) (0.58b0)\n",
            "Requirement already satisfied: opentelemetry-util-http==0.58b0 in /Users/sayedarizvi/ai-agents-for-beginners/venv/lib/python3.13/site-packages (from opentelemetry-instrumentation-django~=0.57b0->azure-monitor-opentelemetry>=1.7.0->agent-framework-core) (0.58b0)\n",
            "Requirement already satisfied: packaging>=18.0 in /Users/sayedarizvi/ai-agents-for-beginners/venv/lib/python3.13/site-packages (from opentelemetry-instrumentation==0.58b0->opentelemetry-instrumentation-django~=0.57b0->azure-monitor-opentelemetry>=1.7.0->agent-framework-core) (25.0)\n",
            "Requirement already satisfied: wrapt<2.0.0,>=1.0.0 in /Users/sayedarizvi/ai-agents-for-beginners/venv/lib/python3.13/site-packages (from opentelemetry-instrumentation==0.58b0->opentelemetry-instrumentation-django~=0.57b0->azure-monitor-opentelemetry>=1.7.0->agent-framework-core) (1.17.3)\n",
            "Requirement already satisfied: opentelemetry-instrumentation-asgi==0.58b0 in /Users/sayedarizvi/ai-agents-for-beginners/venv/lib/python3.13/site-packages (from opentelemetry-instrumentation-fastapi~=0.57b0->azure-monitor-opentelemetry>=1.7.0->agent-framework-core) (0.58b0)\n",
            "Requirement already satisfied: asgiref~=3.0 in /Users/sayedarizvi/ai-agents-for-beginners/venv/lib/python3.13/site-packages (from opentelemetry-instrumentation-asgi==0.58b0->opentelemetry-instrumentation-fastapi~=0.57b0->azure-monitor-opentelemetry>=1.7.0->agent-framework-core) (3.10.0)\n",
            "Requirement already satisfied: opentelemetry-instrumentation-dbapi==0.58b0 in /Users/sayedarizvi/ai-agents-for-beginners/venv/lib/python3.13/site-packages (from opentelemetry-instrumentation-psycopg2~=0.57b0->azure-monitor-opentelemetry>=1.7.0->agent-framework-core) (0.58b0)\n",
            "Requirement already satisfied: cffi>=2.0.0 in /Users/sayedarizvi/ai-agents-for-beginners/venv/lib/python3.13/site-packages (from cryptography>=2.5->azure-identity<2,>=1->agent-framework-core) (2.0.0)\n",
            "Requirement already satisfied: pycparser in /Users/sayedarizvi/ai-agents-for-beginners/venv/lib/python3.13/site-packages (from cffi>=2.0.0->cryptography>=2.5->azure-identity<2,>=1->agent-framework-core) (2.23)\n",
            "Requirement already satisfied: anyio>=4.5 in /Users/sayedarizvi/ai-agents-for-beginners/venv/lib/python3.13/site-packages (from mcp>=1.13->mcp[ws]>=1.13->agent-framework-core) (4.11.0)\n",
            "Requirement already satisfied: httpx-sse>=0.4 in /Users/sayedarizvi/ai-agents-for-beginners/venv/lib/python3.13/site-packages (from mcp>=1.13->mcp[ws]>=1.13->agent-framework-core) (0.4.1)\n",
            "Requirement already satisfied: httpx>=0.27.1 in /Users/sayedarizvi/ai-agents-for-beginners/venv/lib/python3.13/site-packages (from mcp>=1.13->mcp[ws]>=1.13->agent-framework-core) (0.28.1)\n",
            "Requirement already satisfied: jsonschema>=4.20.0 in /Users/sayedarizvi/ai-agents-for-beginners/venv/lib/python3.13/site-packages (from mcp>=1.13->mcp[ws]>=1.13->agent-framework-core) (4.25.1)\n",
            "Requirement already satisfied: python-multipart>=0.0.9 in /Users/sayedarizvi/ai-agents-for-beginners/venv/lib/python3.13/site-packages (from mcp>=1.13->mcp[ws]>=1.13->agent-framework-core) (0.0.20)\n",
            "Requirement already satisfied: sse-starlette>=1.6.1 in /Users/sayedarizvi/ai-agents-for-beginners/venv/lib/python3.13/site-packages (from mcp>=1.13->mcp[ws]>=1.13->agent-framework-core) (3.0.2)\n",
            "Requirement already satisfied: starlette>=0.27 in /Users/sayedarizvi/ai-agents-for-beginners/venv/lib/python3.13/site-packages (from mcp>=1.13->mcp[ws]>=1.13->agent-framework-core) (0.48.0)\n",
            "Requirement already satisfied: uvicorn>=0.31.1 in /Users/sayedarizvi/ai-agents-for-beginners/venv/lib/python3.13/site-packages (from mcp>=1.13->mcp[ws]>=1.13->agent-framework-core) (0.37.0)\n",
            "Requirement already satisfied: idna>=2.8 in /Users/sayedarizvi/ai-agents-for-beginners/venv/lib/python3.13/site-packages (from anyio>=4.5->mcp>=1.13->mcp[ws]>=1.13->agent-framework-core) (3.10)\n",
            "Requirement already satisfied: sniffio>=1.1 in /Users/sayedarizvi/ai-agents-for-beginners/venv/lib/python3.13/site-packages (from anyio>=4.5->mcp>=1.13->mcp[ws]>=1.13->agent-framework-core) (1.3.1)\n",
            "Requirement already satisfied: certifi in /Users/sayedarizvi/ai-agents-for-beginners/venv/lib/python3.13/site-packages (from httpx>=0.27.1->mcp>=1.13->mcp[ws]>=1.13->agent-framework-core) (2025.10.5)\n",
            "Requirement already satisfied: httpcore==1.* in /Users/sayedarizvi/ai-agents-for-beginners/venv/lib/python3.13/site-packages (from httpx>=0.27.1->mcp>=1.13->mcp[ws]>=1.13->agent-framework-core) (1.0.9)\n",
            "Requirement already satisfied: h11>=0.16 in /Users/sayedarizvi/ai-agents-for-beginners/venv/lib/python3.13/site-packages (from httpcore==1.*->httpx>=0.27.1->mcp>=1.13->mcp[ws]>=1.13->agent-framework-core) (0.16.0)\n",
            "Requirement already satisfied: attrs>=22.2.0 in /Users/sayedarizvi/ai-agents-for-beginners/venv/lib/python3.13/site-packages (from jsonschema>=4.20.0->mcp>=1.13->mcp[ws]>=1.13->agent-framework-core) (25.4.0)\n",
            "Requirement already satisfied: jsonschema-specifications>=2023.03.6 in /Users/sayedarizvi/ai-agents-for-beginners/venv/lib/python3.13/site-packages (from jsonschema>=4.20.0->mcp>=1.13->mcp[ws]>=1.13->agent-framework-core) (2025.9.1)\n",
            "Requirement already satisfied: referencing>=0.28.4 in /Users/sayedarizvi/ai-agents-for-beginners/venv/lib/python3.13/site-packages (from jsonschema>=4.20.0->mcp>=1.13->mcp[ws]>=1.13->agent-framework-core) (0.36.2)\n",
            "Requirement already satisfied: rpds-py>=0.7.1 in /Users/sayedarizvi/ai-agents-for-beginners/venv/lib/python3.13/site-packages (from jsonschema>=4.20.0->mcp>=1.13->mcp[ws]>=1.13->agent-framework-core) (0.27.1)\n",
            "Requirement already satisfied: websockets>=15.0.1 in /Users/sayedarizvi/ai-agents-for-beginners/venv/lib/python3.13/site-packages (from mcp[ws]>=1.13->agent-framework-core) (15.0.1)\n",
            "Requirement already satisfied: PyJWT<3,>=1.0.0 in /Users/sayedarizvi/ai-agents-for-beginners/venv/lib/python3.13/site-packages (from PyJWT[crypto]<3,>=1.0.0->msal>=1.30.0->azure-identity<2,>=1->agent-framework-core) (2.10.1)\n",
            "Requirement already satisfied: charset_normalizer<4,>=2 in /Users/sayedarizvi/ai-agents-for-beginners/venv/lib/python3.13/site-packages (from requests>=2.21.0->azure-core>=1.31.0->azure-identity<2,>=1->agent-framework-core) (3.4.3)\n",
            "Requirement already satisfied: urllib3<3,>=1.21.1 in /Users/sayedarizvi/ai-agents-for-beginners/venv/lib/python3.13/site-packages (from requests>=2.21.0->azure-core>=1.31.0->azure-identity<2,>=1->agent-framework-core) (2.5.0)\n",
            "Requirement already satisfied: isodate>=0.6.0 in /Users/sayedarizvi/ai-agents-for-beginners/venv/lib/python3.13/site-packages (from msrest>=0.6.10->azure-monitor-opentelemetry-exporter>=1.0.0b41->agent-framework-core) (0.7.2)\n",
            "Requirement already satisfied: requests-oauthlib>=0.5.0 in /Users/sayedarizvi/ai-agents-for-beginners/venv/lib/python3.13/site-packages (from msrest>=0.6.10->azure-monitor-opentelemetry-exporter>=1.0.0b41->agent-framework-core) (2.0.0)\n",
            "Requirement already satisfied: distro<2,>=1.7.0 in /Users/sayedarizvi/ai-agents-for-beginners/venv/lib/python3.13/site-packages (from openai>=1.99.0->agent-framework-core) (1.9.0)\n",
            "Requirement already satisfied: jiter<1,>=0.4.0 in /Users/sayedarizvi/ai-agents-for-beginners/venv/lib/python3.13/site-packages (from openai>=1.99.0->agent-framework-core) (0.11.0)\n",
            "Requirement already satisfied: tqdm>4 in /Users/sayedarizvi/ai-agents-for-beginners/venv/lib/python3.13/site-packages (from openai>=1.99.0->agent-framework-core) (4.67.1)\n",
            "Requirement already satisfied: googleapis-common-protos~=1.57 in /Users/sayedarizvi/ai-agents-for-beginners/venv/lib/python3.13/site-packages (from opentelemetry-exporter-otlp-proto-grpc>=1.36.0->agent-framework-core) (1.70.0)\n",
            "Requirement already satisfied: grpcio<2.0.0,>=1.66.2 in /Users/sayedarizvi/ai-agents-for-beginners/venv/lib/python3.13/site-packages (from opentelemetry-exporter-otlp-proto-grpc>=1.36.0->agent-framework-core) (1.75.1)\n",
            "Requirement already satisfied: opentelemetry-exporter-otlp-proto-common==1.37.0 in /Users/sayedarizvi/ai-agents-for-beginners/venv/lib/python3.13/site-packages (from opentelemetry-exporter-otlp-proto-grpc>=1.36.0->agent-framework-core) (1.37.0)\n",
            "Requirement already satisfied: opentelemetry-proto==1.37.0 in /Users/sayedarizvi/ai-agents-for-beginners/venv/lib/python3.13/site-packages (from opentelemetry-exporter-otlp-proto-grpc>=1.36.0->agent-framework-core) (1.37.0)\n",
            "Requirement already satisfied: protobuf<7.0,>=5.0 in /Users/sayedarizvi/ai-agents-for-beginners/venv/lib/python3.13/site-packages (from opentelemetry-proto==1.37.0->opentelemetry-exporter-otlp-proto-grpc>=1.36.0->agent-framework-core) (6.32.1)\n",
            "Requirement already satisfied: oauthlib>=3.0.0 in /Users/sayedarizvi/ai-agents-for-beginners/venv/lib/python3.13/site-packages (from requests-oauthlib>=0.5.0->msrest>=0.6.10->azure-monitor-opentelemetry-exporter>=1.0.0b41->agent-framework-core) (3.3.1)\n",
            "Requirement already satisfied: click>=7.0 in /Users/sayedarizvi/ai-agents-for-beginners/venv/lib/python3.13/site-packages (from uvicorn>=0.31.1->mcp>=1.13->mcp[ws]>=1.13->agent-framework-core) (8.3.0)\n"
          ]
        }
      ],
      "source": [
        "! pip install agent-framework-core  -U"
      ]
    },
    {
      "cell_type": "code",
      "execution_count": 2,
      "id": "c0df8a52",
      "metadata": {},
      "outputs": [],
      "source": [
        "# 📦 Import Core Libraries for Agent Design Patterns\n",
        "import os                     # Environment variable access for configuration management\n",
        "from random import randint    # Random selection utilities for tool functionality\n",
        "\n",
        "from dotenv import load_dotenv  # Secure environment configuration loading"
      ]
    },
    {
      "cell_type": "code",
      "execution_count": 3,
      "id": "151e0314",
      "metadata": {},
      "outputs": [],
      "source": [
        "# 🤖 Import Microsoft Agent Framework Components  \n",
        "# ChatAgent: Core agent orchestration class following factory pattern\n",
        "# OpenAIChatClient: GitHub Models integration following adapter pattern\n",
        "from agent_framework import ChatAgent\n",
        "from agent_framework.openai import OpenAIChatClient"
      ]
    },
    {
      "cell_type": "code",
      "execution_count": 4,
      "id": "a6141584",
      "metadata": {},
      "outputs": [
        {
          "data": {
            "text/plain": [
              "True"
            ]
          },
          "execution_count": 4,
          "metadata": {},
          "output_type": "execute_result"
        }
      ],
      "source": [
        "# 🔧 Configuration Loading Pattern\n",
        "# Implement configuration management pattern for secure credential handling\n",
        "# This follows the external configuration principle for cloud-native applications\n",
        "load_dotenv()"
      ]
    },
    {
      "cell_type": "code",
      "execution_count": 5,
      "id": "a6507f83",
      "metadata": {},
      "outputs": [],
      "source": [
        "# 🛠️ Tool Function Design Pattern\n",
        "# Implements the Strategy Pattern for pluggable agent capabilities\n",
        "# This demonstrates clean separation of business logic from agent orchestration\n",
        "def get_random_destination() -> str:\n",
        "    \"\"\"Get a random vacation destination using Repository Pattern.\n",
        "    \n",
        "    This function exemplifies several design patterns:\n",
        "    - Strategy Pattern: Interchangeable algorithm for destination selection\n",
        "    - Repository Pattern: Encapsulates data access logic\n",
        "    - Factory Method: Creates destination objects on demand\n",
        "    \n",
        "    Returns:\n",
        "        str: A randomly selected destination following consistent format\n",
        "    \"\"\"\n",
        "    # Data Repository Pattern: Centralized destination data management\n",
        "    destinations = [\n",
        "        \"Barcelona, Spain\",      # Mediterranean cultural hub\n",
        "        \"Paris, France\",         # European artistic center\n",
        "        \"Berlin, Germany\",       # Historical European capital\n",
        "        \"Tokyo, Japan\",          # Asian technology metropolis\n",
        "        \"Sydney, Australia\",     # Oceanic coastal city\n",
        "        \"New York, USA\",         # American urban center\n",
        "        \"Cairo, Egypt\",          # African historical capital\n",
        "        \"Cape Town, South Africa\", # African scenic destination\n",
        "        \"Rio de Janeiro, Brazil\",  # South American beach city\n",
        "        \"Bali, Indonesia\",          # Southeast Asian island paradise\n",
        "        \"Lucknow, India\"           # Indian cultural city,\n",
        "        \"Moscow, Russia\"         # Russian historical and cultural hub\n",
        "    ]\n",
        "    \n",
        "    # Factory Method Pattern: Create destination selection on demand\n",
        "    return destinations[randint(0, len(destinations) - 1)]"
      ]
    },
    {
      "cell_type": "code",
      "execution_count": 6,
      "id": "5d4f0568",
      "metadata": {},
      "outputs": [],
      "source": [
        "openai_chat_client = OpenAIChatClient(base_url=os.environ.get(\"GITHUB_ENDPOINT\"), api_key=os.environ.get(\"GITHUB_TOKEN\"), model_id=os.environ.get(\"GITHUB_MODEL_ID\"))"
      ]
    },
    {
      "cell_type": "code",
      "execution_count": 7,
      "id": "751668c5",
      "metadata": {},
      "outputs": [],
      "source": [
        "AGENT_NAME =\"TravelAgent\"\n",
        "\n",
        "AGENT_INSTRUCTIONS = \"\"\"You are a helpful AI Agent that can help plan vacations for customers.\n",
        "\n",
        "Important: When users specify a destination, always plan for that location. Only suggest random destinations when the user hasn't specified a preference.\n",
        "\n",
        "When the conversation begins, introduce yourself with this message:\n",
        "\"Hello! I'm your TravelAgent assistant. I can help plan vacations and suggest interesting destinations for you. Here are some things you can ask me:\n",
        "1. Plan a day trip to a specific location\n",
        "2. Suggest a random vacation destination\n",
        "3. Find destinations with specific features (beaches, mountains, historical sites, etc.)\n",
        "4. Plan an alternative trip if you don't like my first suggestion\n",
        "\n",
        "What kind of trip would you like me to help you plan today?\"\n",
        "\n",
        "Always prioritize user preferences. If they mention a specific destination like \"Bali\" or \"Paris,\" focus your planning on that location rather than suggesting alternatives.\n",
        "\"\"\""
      ]
    },
    {
      "cell_type": "code",
      "execution_count": 8,
      "id": "cf5a4800",
      "metadata": {},
      "outputs": [],
      "source": [
        "agent = ChatAgent(\n",
        "        name = AGENT_NAME,\n",
        "        chat_client=openai_chat_client,\n",
        "        instructions=AGENT_INSTRUCTIONS,\n",
        "        tools=[get_random_destination]\n",
        ")"
      ]
    },
    {
      "cell_type": "code",
      "execution_count": 9,
      "id": "be18ac4f",
      "metadata": {},
      "outputs": [],
      "source": [
        "thread = agent.get_new_thread()"
      ]
    },
    {
      "cell_type": "code",
      "execution_count": 10,
      "id": "772e9481",
      "metadata": {},
      "outputs": [],
      "source": [
        "response1 = await agent.run(\"Plan me a day trip\",thread= thread)"
      ]
    },
    {
      "cell_type": "code",
      "execution_count": 12,
      "id": "a731b547",
      "metadata": {},
      "outputs": [
        {
          "name": "stdout",
          "output_type": "stream",
          "text": [
            "Travel plan:\n",
            "Hello! I'm your TravelAgent assistant. I can help plan vacations and suggest interesting destinations for you. Here are some things you can ask me:\n",
            "1. Plan a day trip to a specific location\n",
            "2. Suggest a random vacation destination\n",
            "3. Find destinations with specific features (beaches, mountains, historical sites, etc.)\n",
            "4. Plan an alternative trip if you don't like my first suggestion\n",
            "\n",
            "What kind of trip would you like me to help you plan today? Please specify a destination for your day trip.\n"
          ]
        }
      ],
      "source": [
        "\n",
        "last_message = response1.messages[-1]\n",
        "text_content = last_message.contents[0].text\n",
        "print(\"Travel plan:\")\n",
        "print(text_content)"
      ]
    },
    {
      "cell_type": "code",
      "execution_count": 16,
      "id": "7d3fe00a",
      "metadata": {},
      "outputs": [],
      "source": [
        "response2 = await agent.run(\"I don't like that destination. Plan me another vacation.\",thread= thread)"
      ]
    },
    {
      "cell_type": "code",
      "execution_count": 17,
      "id": "ba50c92d",
      "metadata": {},
      "outputs": [
        {
          "name": "stdout",
          "output_type": "stream",
          "text": [
            "Change plan:\n",
            "How about a vacation to Sydney, Australia? It's a vibrant city known for its stunning harbor, iconic landmarks, and beautiful beaches. Here are some highlights you can consider for your trip:\n",
            "\n",
            "1. **Sydney Opera House**: Visit this architectural marvel and catch a show or take a guided tour.\n",
            "\n",
            "2. **Sydney Harbour Bridge**: You can walk across or even climb the bridge for breathtaking views of the city.\n",
            "\n",
            "3. **Bondi Beach**: Relax on the famous beach, take a surfing lesson, or enjoy a walk along the coastal path.\n",
            "\n",
            "4. **Taronga Zoo**: Meet Australian wildlife and enjoy amazing views of Sydney from the zoo.\n",
            "\n",
            "5. **Royal Botanic Garden**: Stroll through these beautiful gardens for a picturesque escape in the heart of the city.\n",
            "\n",
            "6. **The Rocks**: Explore this historic area filled with cobblestone streets, shops, and restaurants.\n",
            "\n",
            "7. **Darling Harbour**: Visit attractions like the SEA LIFE Sydney Aquarium, and take advantage of dining and shopping options.\n",
            "\n",
            "Would you like more detailed plans or specific activities for any of these suggestions?\n"
          ]
        }
      ],
      "source": [
        "last_message = response2.messages[-1]\n",
        "text_content = last_message.contents[0].text\n",
        "print(\"Change plan:\")\n",
        "print(text_content)"
      ]
    }
  ],
  "metadata": {
    "kernelspec": {
      "display_name": "venv",
      "language": "python",
      "name": "python3"
    },
    "language_info": {
      "codemirror_mode": {
        "name": "ipython",
        "version": 3
      },
      "file_extension": ".py",
      "mimetype": "text/x-python",
      "name": "python",
      "nbconvert_exporter": "python",
      "pygments_lexer": "ipython3",
      "version": "3.13.4"
    },
    "polyglot_notebook": {
      "kernelInfo": {
        "defaultKernelName": "csharp",
        "items": [
          {
            "aliases": [],
            "name": "csharp"
          }
        ]
      }
    }
  },
  "nbformat": 4,
  "nbformat_minor": 5
}
