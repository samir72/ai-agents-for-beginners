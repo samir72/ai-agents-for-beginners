{
  "cells": [
    {
      "cell_type": "code",
      "execution_count": null,
      "id": "3a7e1e59",
      "metadata": {},
      "outputs": [],
      "source": [
        "! pip install agent-framework-azure-ai -U"
      ]
    },
    {
      "cell_type": "code",
      "execution_count": 2,
      "id": "97f08567",
      "metadata": {},
      "outputs": [],
      "source": [
        "import os\n",
        "\n",
        "from azure.identity.aio import AzureCliCredential\n",
        "from dotenv import load_dotenv\n",
        "\n",
        "from agent_framework import AgentRunResponse,ChatAgent,HostedFileSearchTool,HostedVectorStoreContent\n",
        "from agent_framework.azure import AzureAIAgentClient"
      ]
    },
    {
      "cell_type": "code",
      "execution_count": null,
      "id": "2a3bcf9d",
      "metadata": {},
      "outputs": [],
      "source": [
        "load_dotenv()"
      ]
    },
    {
      "cell_type": "code",
      "execution_count": 5,
      "id": "3d3ca050",
      "metadata": {},
      "outputs": [],
      "source": [
        "async def create_vector_store(client: AzureAIAgentClient) -> tuple[str, HostedVectorStoreContent]:\n",
        "    \"\"\"Create a vector store with sample documents.\"\"\"\n",
        "    file_path = './document.md'\n",
        "    file = await client.project_client.agents.files.upload_and_poll(file_path=file_path, purpose=\"assistants\")\n",
        "    print(f\"Uploaded file, file ID: {file.id}\")\n",
        "\n",
        "\n",
        "    vector_store = await client.project_client.agents.vector_stores.create_and_poll(file_ids=[file.id], name=\"graph_knowledge_base\")\n",
        "\n",
        "    print(f\"Created vector store, ID: {vector_store.id}\")\n",
        "\n",
        "\n",
        "    return file.id, HostedVectorStoreContent(vector_store_id=vector_store.id)"
      ]
    },
    {
      "cell_type": "code",
      "execution_count": 7,
      "id": "0aef5316",
      "metadata": {},
      "outputs": [
        {
          "ename": "ResourceNotFoundError",
          "evalue": "(404) Resource not found\nCode: 404\nMessage: Resource not found",
          "output_type": "error",
          "traceback": [
            "\u001b[31m---------------------------------------------------------------------------\u001b[39m",
            "\u001b[31mResourceNotFoundError\u001b[39m                     Traceback (most recent call last)",
            "\u001b[36mCell\u001b[39m\u001b[36m \u001b[39m\u001b[32mIn[7]\u001b[39m\u001b[32m, line 5\u001b[39m\n\u001b[32m      1\u001b[39m \u001b[38;5;28;01masync\u001b[39;00m \u001b[38;5;28;01mwith\u001b[39;00m (\n\u001b[32m      2\u001b[39m         AzureCliCredential() \u001b[38;5;28;01mas\u001b[39;00m credential,\n\u001b[32m      3\u001b[39m         AzureAIAgentClient(async_credential=credential) \u001b[38;5;28;01mas\u001b[39;00m chat_client,\n\u001b[32m      4\u001b[39m     ):\n\u001b[32m----> \u001b[39m\u001b[32m5\u001b[39m         file_id, vector_store = \u001b[38;5;28;01mawait\u001b[39;00m create_vector_store(chat_client)\n\u001b[32m      7\u001b[39m         file_search = HostedFileSearchTool(inputs=vector_store)\n\u001b[32m      9\u001b[39m         agent = chat_client.create_agent(\n\u001b[32m     10\u001b[39m             name=\u001b[33m\"\u001b[39m\u001b[33mPythonRAGDemo\u001b[39m\u001b[33m\"\u001b[39m,\n\u001b[32m     11\u001b[39m             instructions=\u001b[33m\"\"\"\u001b[39m\n\u001b[32m   (...)\u001b[39m\u001b[32m     24\u001b[39m             tool_choice = \u001b[33m\"\u001b[39m\u001b[33mauto\u001b[39m\u001b[33m\"\u001b[39m,  \u001b[38;5;66;03m# Let the agent decide when to use tools\u001b[39;00m\n\u001b[32m     25\u001b[39m         )\n",
            "\u001b[36mCell\u001b[39m\u001b[36m \u001b[39m\u001b[32mIn[5]\u001b[39m\u001b[32m, line 4\u001b[39m, in \u001b[36mcreate_vector_store\u001b[39m\u001b[34m(client)\u001b[39m\n\u001b[32m      2\u001b[39m \u001b[38;5;250m\u001b[39m\u001b[33;03m\"\"\"Create a vector store with sample documents.\"\"\"\u001b[39;00m\n\u001b[32m      3\u001b[39m file_path = \u001b[33m'\u001b[39m\u001b[33m./document.md\u001b[39m\u001b[33m'\u001b[39m\n\u001b[32m----> \u001b[39m\u001b[32m4\u001b[39m file = \u001b[38;5;28;01mawait\u001b[39;00m client.project_client.agents.files.upload_and_poll(file_path=file_path, purpose=\u001b[33m\"\u001b[39m\u001b[33massistants\u001b[39m\u001b[33m\"\u001b[39m)\n\u001b[32m      5\u001b[39m \u001b[38;5;28mprint\u001b[39m(\u001b[33mf\u001b[39m\u001b[33m\"\u001b[39m\u001b[33mUploaded file, file ID: \u001b[39m\u001b[38;5;132;01m{\u001b[39;00mfile.id\u001b[38;5;132;01m}\u001b[39;00m\u001b[33m\"\u001b[39m)\n\u001b[32m      8\u001b[39m vector_store = \u001b[38;5;28;01mawait\u001b[39;00m client.project_client.agents.vector_stores.create_and_poll(file_ids=[file.id], name=\u001b[33m\"\u001b[39m\u001b[33mgraph_knowledge_base\u001b[39m\u001b[33m\"\u001b[39m)\n",
            "\u001b[36mFile \u001b[39m\u001b[32m~/ai-agents-for-beginners/venv/lib/python3.13/site-packages/azure/core/tracing/decorator_async.py:119\u001b[39m, in \u001b[36mdistributed_trace_async.<locals>.decorator.<locals>.wrapper_use_tracer\u001b[39m\u001b[34m(*args, **kwargs)\u001b[39m\n\u001b[32m    117\u001b[39m \u001b[38;5;66;03m# If tracing is disabled globally and user didn't explicitly enable it, don't trace.\u001b[39;00m\n\u001b[32m    118\u001b[39m \u001b[38;5;28;01mif\u001b[39;00m user_enabled \u001b[38;5;129;01mis\u001b[39;00m \u001b[38;5;28;01mFalse\u001b[39;00m \u001b[38;5;129;01mor\u001b[39;00m (\u001b[38;5;129;01mnot\u001b[39;00m tracing_enabled \u001b[38;5;129;01mand\u001b[39;00m user_enabled \u001b[38;5;129;01mis\u001b[39;00m \u001b[38;5;28;01mNone\u001b[39;00m):\n\u001b[32m--> \u001b[39m\u001b[32m119\u001b[39m     \u001b[38;5;28;01mreturn\u001b[39;00m \u001b[38;5;28;01mawait\u001b[39;00m func(*args, **kwargs)\n\u001b[32m    121\u001b[39m \u001b[38;5;66;03m# Merge span is parameter is set, but only if no explicit parent are passed\u001b[39;00m\n\u001b[32m    122\u001b[39m \u001b[38;5;28;01mif\u001b[39;00m merge_span \u001b[38;5;129;01mand\u001b[39;00m \u001b[38;5;129;01mnot\u001b[39;00m passed_in_parent:\n",
            "\u001b[36mFile \u001b[39m\u001b[32m~/ai-agents-for-beginners/venv/lib/python3.13/site-packages/azure/ai/agents/aio/operations/_patch.py:1562\u001b[39m, in \u001b[36mFilesOperations.upload_and_poll\u001b[39m\u001b[34m(self, body, file, file_path, purpose, filename, polling_interval, timeout, **kwargs)\u001b[39m\n\u001b[32m   1560\u001b[39m     uploaded_file = \u001b[38;5;28;01mawait\u001b[39;00m \u001b[38;5;28mself\u001b[39m.upload(file=file, purpose=purpose, filename=filename, **kwargs)\n\u001b[32m   1561\u001b[39m \u001b[38;5;28;01melif\u001b[39;00m file_path \u001b[38;5;129;01mis\u001b[39;00m \u001b[38;5;129;01mnot\u001b[39;00m \u001b[38;5;28;01mNone\u001b[39;00m \u001b[38;5;129;01mand\u001b[39;00m purpose \u001b[38;5;129;01mis\u001b[39;00m \u001b[38;5;129;01mnot\u001b[39;00m \u001b[38;5;28;01mNone\u001b[39;00m:\n\u001b[32m-> \u001b[39m\u001b[32m1562\u001b[39m     uploaded_file = \u001b[38;5;28;01mawait\u001b[39;00m \u001b[38;5;28mself\u001b[39m.upload(file_path=file_path, purpose=purpose, **kwargs)\n\u001b[32m   1563\u001b[39m \u001b[38;5;28;01melse\u001b[39;00m:\n\u001b[32m   1564\u001b[39m     \u001b[38;5;28;01mraise\u001b[39;00m \u001b[38;5;167;01mValueError\u001b[39;00m(\n\u001b[32m   1565\u001b[39m         \u001b[33m\"\u001b[39m\u001b[33mInvalid parameters for upload_and_poll. Please provide either \u001b[39m\u001b[33m'\u001b[39m\u001b[33mbody\u001b[39m\u001b[33m'\u001b[39m\u001b[33m, \u001b[39m\u001b[33m\"\u001b[39m\n\u001b[32m   1566\u001b[39m         \u001b[33m\"\u001b[39m\u001b[33mor both \u001b[39m\u001b[33m'\u001b[39m\u001b[33mfile\u001b[39m\u001b[33m'\u001b[39m\u001b[33m and \u001b[39m\u001b[33m'\u001b[39m\u001b[33mpurpose\u001b[39m\u001b[33m'\u001b[39m\u001b[33m, or both \u001b[39m\u001b[33m'\u001b[39m\u001b[33mfile_path\u001b[39m\u001b[33m'\u001b[39m\u001b[33m and \u001b[39m\u001b[33m'\u001b[39m\u001b[33mpurpose\u001b[39m\u001b[33m'\u001b[39m\u001b[33m.\u001b[39m\u001b[33m\"\u001b[39m\n\u001b[32m   1567\u001b[39m     )\n",
            "\u001b[36mFile \u001b[39m\u001b[32m~/ai-agents-for-beginners/venv/lib/python3.13/site-packages/azure/core/tracing/decorator_async.py:119\u001b[39m, in \u001b[36mdistributed_trace_async.<locals>.decorator.<locals>.wrapper_use_tracer\u001b[39m\u001b[34m(*args, **kwargs)\u001b[39m\n\u001b[32m    117\u001b[39m \u001b[38;5;66;03m# If tracing is disabled globally and user didn't explicitly enable it, don't trace.\u001b[39;00m\n\u001b[32m    118\u001b[39m \u001b[38;5;28;01mif\u001b[39;00m user_enabled \u001b[38;5;129;01mis\u001b[39;00m \u001b[38;5;28;01mFalse\u001b[39;00m \u001b[38;5;129;01mor\u001b[39;00m (\u001b[38;5;129;01mnot\u001b[39;00m tracing_enabled \u001b[38;5;129;01mand\u001b[39;00m user_enabled \u001b[38;5;129;01mis\u001b[39;00m \u001b[38;5;28;01mNone\u001b[39;00m):\n\u001b[32m--> \u001b[39m\u001b[32m119\u001b[39m     \u001b[38;5;28;01mreturn\u001b[39;00m \u001b[38;5;28;01mawait\u001b[39;00m func(*args, **kwargs)\n\u001b[32m    121\u001b[39m \u001b[38;5;66;03m# Merge span is parameter is set, but only if no explicit parent are passed\u001b[39;00m\n\u001b[32m    122\u001b[39m \u001b[38;5;28;01mif\u001b[39;00m merge_span \u001b[38;5;129;01mand\u001b[39;00m \u001b[38;5;129;01mnot\u001b[39;00m passed_in_parent:\n",
            "\u001b[36mFile \u001b[39m\u001b[32m~/ai-agents-for-beginners/venv/lib/python3.13/site-packages/azure/ai/agents/aio/operations/_patch.py:1434\u001b[39m, in \u001b[36mFilesOperations.upload\u001b[39m\u001b[34m(self, body, file, file_path, purpose, filename, **kwargs)\u001b[39m\n\u001b[32m   1431\u001b[39m     base_filename = filename \u001b[38;5;129;01mor\u001b[39;00m os.path.basename(file_path)\n\u001b[32m   1432\u001b[39m     file_content: FileType = (base_filename, content)\n\u001b[32m-> \u001b[39m\u001b[32m1434\u001b[39m     \u001b[38;5;28;01mreturn\u001b[39;00m \u001b[38;5;28;01mawait\u001b[39;00m \u001b[38;5;28msuper\u001b[39m()._upload_file(body={\u001b[33m\"\u001b[39m\u001b[33mfile\u001b[39m\u001b[33m\"\u001b[39m: file_content, \u001b[33m\"\u001b[39m\u001b[33mpurpose\u001b[39m\u001b[33m\"\u001b[39m: purpose}, **kwargs)\n\u001b[32m   1435\u001b[39m \u001b[38;5;28;01mexcept\u001b[39;00m \u001b[38;5;167;01mIOError\u001b[39;00m \u001b[38;5;28;01mas\u001b[39;00m e:\n\u001b[32m   1436\u001b[39m     \u001b[38;5;28;01mraise\u001b[39;00m \u001b[38;5;167;01mIOError\u001b[39;00m(\u001b[33mf\u001b[39m\u001b[33m\"\u001b[39m\u001b[33mUnable to read file: \u001b[39m\u001b[38;5;132;01m{\u001b[39;00mfile_path\u001b[38;5;132;01m}\u001b[39;00m\u001b[33m.\u001b[39m\u001b[33m\"\u001b[39m) \u001b[38;5;28;01mfrom\u001b[39;00m\u001b[38;5;250m \u001b[39m\u001b[34;01me\u001b[39;00m\n",
            "\u001b[36mFile \u001b[39m\u001b[32m~/ai-agents-for-beginners/venv/lib/python3.13/site-packages/azure/core/tracing/decorator_async.py:119\u001b[39m, in \u001b[36mdistributed_trace_async.<locals>.decorator.<locals>.wrapper_use_tracer\u001b[39m\u001b[34m(*args, **kwargs)\u001b[39m\n\u001b[32m    117\u001b[39m \u001b[38;5;66;03m# If tracing is disabled globally and user didn't explicitly enable it, don't trace.\u001b[39;00m\n\u001b[32m    118\u001b[39m \u001b[38;5;28;01mif\u001b[39;00m user_enabled \u001b[38;5;129;01mis\u001b[39;00m \u001b[38;5;28;01mFalse\u001b[39;00m \u001b[38;5;129;01mor\u001b[39;00m (\u001b[38;5;129;01mnot\u001b[39;00m tracing_enabled \u001b[38;5;129;01mand\u001b[39;00m user_enabled \u001b[38;5;129;01mis\u001b[39;00m \u001b[38;5;28;01mNone\u001b[39;00m):\n\u001b[32m--> \u001b[39m\u001b[32m119\u001b[39m     \u001b[38;5;28;01mreturn\u001b[39;00m \u001b[38;5;28;01mawait\u001b[39;00m func(*args, **kwargs)\n\u001b[32m    121\u001b[39m \u001b[38;5;66;03m# Merge span is parameter is set, but only if no explicit parent are passed\u001b[39;00m\n\u001b[32m    122\u001b[39m \u001b[38;5;28;01mif\u001b[39;00m merge_span \u001b[38;5;129;01mand\u001b[39;00m \u001b[38;5;129;01mnot\u001b[39;00m passed_in_parent:\n",
            "\u001b[36mFile \u001b[39m\u001b[32m~/ai-agents-for-beginners/venv/lib/python3.13/site-packages/azure/ai/agents/aio/operations/_operations.py:2504\u001b[39m, in \u001b[36mFilesOperations._upload_file\u001b[39m\u001b[34m(self, body, **kwargs)\u001b[39m\n\u001b[32m   2502\u001b[39m     \u001b[38;5;28;01mexcept\u001b[39;00m (StreamConsumedError, StreamClosedError):\n\u001b[32m   2503\u001b[39m         \u001b[38;5;28;01mpass\u001b[39;00m\n\u001b[32m-> \u001b[39m\u001b[32m2504\u001b[39m \u001b[43mmap_error\u001b[49m\u001b[43m(\u001b[49m\u001b[43mstatus_code\u001b[49m\u001b[43m=\u001b[49m\u001b[43mresponse\u001b[49m\u001b[43m.\u001b[49m\u001b[43mstatus_code\u001b[49m\u001b[43m,\u001b[49m\u001b[43m \u001b[49m\u001b[43mresponse\u001b[49m\u001b[43m=\u001b[49m\u001b[43mresponse\u001b[49m\u001b[43m,\u001b[49m\u001b[43m \u001b[49m\u001b[43merror_map\u001b[49m\u001b[43m=\u001b[49m\u001b[43merror_map\u001b[49m\u001b[43m)\u001b[49m\n\u001b[32m   2505\u001b[39m error = _failsafe_deserialize(_models.AgentV1Error, response)\n\u001b[32m   2506\u001b[39m \u001b[38;5;28;01mraise\u001b[39;00m HttpResponseError(response=response, model=error)\n",
            "\u001b[36mFile \u001b[39m\u001b[32m~/ai-agents-for-beginners/venv/lib/python3.13/site-packages/azure/core/exceptions.py:163\u001b[39m, in \u001b[36mmap_error\u001b[39m\u001b[34m(status_code, response, error_map)\u001b[39m\n\u001b[32m    161\u001b[39m     \u001b[38;5;28;01mreturn\u001b[39;00m\n\u001b[32m    162\u001b[39m error = error_type(response=response)\n\u001b[32m--> \u001b[39m\u001b[32m163\u001b[39m \u001b[38;5;28;01mraise\u001b[39;00m error\n",
            "\u001b[31mResourceNotFoundError\u001b[39m: (404) Resource not found\nCode: 404\nMessage: Resource not found"
          ]
        }
      ],
      "source": [
        "async with (\n",
        "        AzureCliCredential() as credential,\n",
        "        AzureAIAgentClient(async_credential=credential) as chat_client,\n",
        "    ):\n",
        "        file_id, vector_store = await create_vector_store(chat_client)\n",
        "\n",
        "        file_search = HostedFileSearchTool(inputs=vector_store)\n",
        "        \n",
        "        agent = chat_client.create_agent(\n",
        "            name=\"PythonRAGDemo\",\n",
        "            instructions=\"\"\"\n",
        "                You are an AI assistant designed to answer user questions using only the information retrieved from the provided document(s).\n",
        "\n",
        "                - If a user's question cannot be answered using the retrieved context, **you must clearly respond**: \n",
        "                \"I'm sorry, but the uploaded document does not contain the necessary information to answer that question.\"\n",
        "                - Do not answer from general knowledge or reasoning. Do not make assumptions or generate hypothetical explanations.\n",
        "                - Do not provide definitions, tutorials, or commentary that is not explicitly grounded in the content of the uploaded file(s).\n",
        "                - If a user asks a question like \"What is a Neural Network?\", and this is not discussed in the uploaded document, respond as instructed above.\n",
        "                - For questions that do have relevant content in the document (e.g., Contoso's travel insurance coverage), respond accurately, and cite the document explicitly.\n",
        "\n",
        "                You must behave as if you have no external knowledge beyond what is retrieved from the uploaded document.\n",
        "                \"\"\",\n",
        "            tools=[file_search],  # Tools available to the agent\n",
        "            tool_choice = \"auto\",  # Let the agent decide when to use tools\n",
        "        )\n",
        "                \n",
        "\n",
        "        print(\"Agent created. You can now ask questions about the uploaded document.\")\n",
        "\n",
        "        query = \"Can you explain Contoso's travel insurance coverage?\"\n",
        "        async for chunk in agent.run_stream(query, tool_resources={\"file_search\": {\"vector_store_ids\": [vector_store.vector_store_id]}}):\n",
        "                \n",
        "            if chunk.text:\n",
        "                print(chunk.text, end=\"\", flush=True)"
      ]
    },
    {
      "cell_type": "code",
      "execution_count": null,
      "id": "03956e01",
      "metadata": {},
      "outputs": [],
      "source": []
    }
  ],
  "metadata": {
    "kernelspec": {
      "display_name": "venv",
      "language": "python",
      "name": "python3"
    },
    "language_info": {
      "codemirror_mode": {
        "name": "ipython",
        "version": 3
      },
      "file_extension": ".py",
      "mimetype": "text/x-python",
      "name": "python",
      "nbconvert_exporter": "python",
      "pygments_lexer": "ipython3",
      "version": "3.13.4"
    },
    "polyglot_notebook": {
      "kernelInfo": {
        "defaultKernelName": "csharp",
        "items": [
          {
            "aliases": [],
            "name": "csharp"
          }
        ]
      }
    }
  },
  "nbformat": 4,
  "nbformat_minor": 5
}
