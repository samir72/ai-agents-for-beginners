{
  "cells": [
    {
      "cell_type": "markdown",
      "id": "374051ac",
      "metadata": {},
      "source": [
        "# 🔍 Exploring Agentic Frameworks - Basic Agent (Python)\n",
        "\n",
        "## 📋 Learning Objectives\n",
        "\n",
        "This notebook explores the fundamental concepts of the Microsoft Agent Framework through a basic agent implementation. You'll learn core agentic patterns and understand how intelligent agents work under the hood.\n",
        "\n",
        "**What You'll Discover:**\n",
        "- 🏗️ **Agent Architecture**: Understanding the basic structure of AI agents\n",
        "- 🛠️ **Tool Integration**: How agents use external functions to extend capabilities  \n",
        "- 💬 **Conversation Flow**: Managing multi-turn conversations and context\n",
        "- 🔧 **Configuration Patterns**: Best practices for agent setup and management\n",
        "\n",
        "## 🎯 Key Concepts Covered\n",
        "\n",
        "### Agentic Framework Principles\n",
        "- **Autonomy**: How agents make independent decisions\n",
        "- **Reactivity**: Responding to environmental changes and user inputs\n",
        "- **Proactivity**: Taking initiative based on goals and context\n",
        "- **Social Ability**: Interacting through natural language\n",
        "\n",
        "### Technical Components\n",
        "- **ChatAgent**: Core agent orchestration and conversation management\n",
        "- **Tool Functions**: Extending agent capabilities with custom functions\n",
        "- **OpenAI Integration**: Leveraging language models through standardized APIs\n",
        "- **Environment Management**: Secure configuration and credential handling\n",
        "\n",
        "## ⚙️ Prerequisites & Setup\n",
        "\n",
        "**Required Dependencies:**\n",
        "```bash\n",
        "\n",
        "pip install agent-framework-core  -U\n",
        "```\n",
        "\n",
        "**Environment Configuration (.env file):**\n",
        "```env\n",
        "GITHUB_TOKEN=your_github_personal_access_token\n",
        "GITHUB_ENDPOINT=https://models.inference.ai.azure.com\n",
        "GITHUB_MODEL_ID=gpt-4o-mini\n",
        "```\n",
        "\n",
        "## 🔧 Technical Stack\n",
        "\n",
        "**Core Technologies:**\n",
        "- Microsoft Agent Framework (Python)\n",
        "- GitHub Models API integration\n",
        "- OpenAI-compatible client patterns\n",
        "- Environment-based configuration\n",
        "\n",
        "**Agent Capabilities:**\n",
        "- Natural language understanding and generation\n",
        "- Function calling and tool usage\n",
        "- Context-aware responses\n",
        "- Extensible architecture\n",
        "\n",
        "## 📚 Framework Comparison\n",
        "\n",
        "This example demonstrates the Microsoft Agent Framework approach compared to other agentic frameworks:\n",
        "\n",
        "| Feature | Microsoft Agent Framework | Other Frameworks |\n",
        "|---------|-------------------------|------------------|\n",
        "| **Integration** | Native Microsoft ecosystem | Varied compatibility |\n",
        "| **Simplicity** | Clean, intuitive API | Often complex setup |\n",
        "| **Extensibility** | Easy tool integration | Framework-dependent |\n",
        "| **Enterprise Ready** | Built for production | Varies by framework |\n",
        "\n",
        "## 🚀 Getting Started\n",
        "\n",
        "Follow the cells below to build your first basic agent and understand foundational agentic concepts!"
      ]
    },
    {
      "cell_type": "code",
      "execution_count": 1,
      "id": "b97bee6f",
      "metadata": {},
      "outputs": [
        {
          "name": "stdout",
          "output_type": "stream",
          "text": [
            "Requirement already satisfied: agent-framework-core in c:\\users\\kinfeylo\\appdata\\local\\miniforge3\\envs\\agentenv\\lib\\site-packages (1.0.0b251001)\n",
            "Requirement already satisfied: openai>=1.99.0 in c:\\users\\kinfeylo\\appdata\\local\\miniforge3\\envs\\agentenv\\lib\\site-packages (from agent-framework-core) (1.106.1)\n",
            "Requirement already satisfied: pydantic<3,>=2 in c:\\users\\kinfeylo\\appdata\\local\\miniforge3\\envs\\agentenv\\lib\\site-packages (from agent-framework-core) (2.11.9)\n",
            "Requirement already satisfied: pydantic-settings<3,>=2 in c:\\users\\kinfeylo\\appdata\\local\\miniforge3\\envs\\agentenv\\lib\\site-packages (from agent-framework-core) (2.10.1)\n",
            "Requirement already satisfied: typing-extensions in c:\\users\\kinfeylo\\appdata\\local\\miniforge3\\envs\\agentenv\\lib\\site-packages (from agent-framework-core) (4.15.0)\n",
            "Requirement already satisfied: opentelemetry-api>=1.24 in c:\\users\\kinfeylo\\appdata\\local\\miniforge3\\envs\\agentenv\\lib\\site-packages (from agent-framework-core) (1.36.0)\n",
            "Requirement already satisfied: opentelemetry-sdk>=1.24 in c:\\users\\kinfeylo\\appdata\\local\\miniforge3\\envs\\agentenv\\lib\\site-packages (from agent-framework-core) (1.36.0)\n",
            "Requirement already satisfied: mcp>=1.13 in c:\\users\\kinfeylo\\appdata\\local\\miniforge3\\envs\\agentenv\\lib\\site-packages (from mcp[ws]>=1.13->agent-framework-core) (1.13.1)\n",
            "Requirement already satisfied: azure-monitor-opentelemetry>=1.7.0 in c:\\users\\kinfeylo\\appdata\\local\\miniforge3\\envs\\agentenv\\lib\\site-packages (from agent-framework-core) (1.8.0)\n",
            "Requirement already satisfied: azure-monitor-opentelemetry-exporter>=1.0.0b41 in c:\\users\\kinfeylo\\appdata\\local\\miniforge3\\envs\\agentenv\\lib\\site-packages (from agent-framework-core) (1.0.0b41)\n",
            "Requirement already satisfied: opentelemetry-exporter-otlp-proto-grpc>=1.36.0 in c:\\users\\kinfeylo\\appdata\\local\\miniforge3\\envs\\agentenv\\lib\\site-packages (from agent-framework-core) (1.36.0)\n",
            "Requirement already satisfied: opentelemetry-semantic-conventions-ai>=0.4.13 in c:\\users\\kinfeylo\\appdata\\local\\miniforge3\\envs\\agentenv\\lib\\site-packages (from agent-framework-core) (0.4.13)\n",
            "Requirement already satisfied: aiofiles>=24.1.0 in c:\\users\\kinfeylo\\appdata\\local\\miniforge3\\envs\\agentenv\\lib\\site-packages (from agent-framework-core) (24.1.0)\n",
            "Requirement already satisfied: azure-identity<2,>=1 in c:\\users\\kinfeylo\\appdata\\local\\miniforge3\\envs\\agentenv\\lib\\site-packages (from agent-framework-core) (1.24.0)\n",
            "Requirement already satisfied: azure-core>=1.31.0 in c:\\users\\kinfeylo\\appdata\\local\\miniforge3\\envs\\agentenv\\lib\\site-packages (from azure-identity<2,>=1->agent-framework-core) (1.35.0)\n",
            "Requirement already satisfied: cryptography>=2.5 in c:\\users\\kinfeylo\\appdata\\local\\miniforge3\\envs\\agentenv\\lib\\site-packages (from azure-identity<2,>=1->agent-framework-core) (45.0.7)\n",
            "Requirement already satisfied: msal>=1.30.0 in c:\\users\\kinfeylo\\appdata\\local\\miniforge3\\envs\\agentenv\\lib\\site-packages (from azure-identity<2,>=1->agent-framework-core) (1.33.0)\n",
            "Requirement already satisfied: msal-extensions>=1.2.0 in c:\\users\\kinfeylo\\appdata\\local\\miniforge3\\envs\\agentenv\\lib\\site-packages (from azure-identity<2,>=1->agent-framework-core) (1.3.1)\n",
            "Requirement already satisfied: annotated-types>=0.6.0 in c:\\users\\kinfeylo\\appdata\\local\\miniforge3\\envs\\agentenv\\lib\\site-packages (from pydantic<3,>=2->agent-framework-core) (0.7.0)\n",
            "Requirement already satisfied: pydantic-core==2.33.2 in c:\\users\\kinfeylo\\appdata\\local\\miniforge3\\envs\\agentenv\\lib\\site-packages (from pydantic<3,>=2->agent-framework-core) (2.33.2)\n",
            "Requirement already satisfied: typing-inspection>=0.4.0 in c:\\users\\kinfeylo\\appdata\\local\\miniforge3\\envs\\agentenv\\lib\\site-packages (from pydantic<3,>=2->agent-framework-core) (0.4.1)\n",
            "Requirement already satisfied: python-dotenv>=0.21.0 in c:\\users\\kinfeylo\\appdata\\local\\miniforge3\\envs\\agentenv\\lib\\site-packages (from pydantic-settings<3,>=2->agent-framework-core) (1.1.1)\n",
            "Requirement already satisfied: requests>=2.21.0 in c:\\users\\kinfeylo\\appdata\\local\\miniforge3\\envs\\agentenv\\lib\\site-packages (from azure-core>=1.31.0->azure-identity<2,>=1->agent-framework-core) (2.32.5)\n",
            "Requirement already satisfied: six>=1.11.0 in c:\\users\\kinfeylo\\appdata\\local\\miniforge3\\envs\\agentenv\\lib\\site-packages (from azure-core>=1.31.0->azure-identity<2,>=1->agent-framework-core) (1.17.0)\n",
            "Requirement already satisfied: azure-core-tracing-opentelemetry~=1.0.0b11 in c:\\users\\kinfeylo\\appdata\\local\\miniforge3\\envs\\agentenv\\lib\\site-packages (from azure-monitor-opentelemetry>=1.7.0->agent-framework-core) (1.0.0b12)\n",
            "Requirement already satisfied: opentelemetry-instrumentation-django~=0.57b0 in c:\\users\\kinfeylo\\appdata\\local\\miniforge3\\envs\\agentenv\\lib\\site-packages (from azure-monitor-opentelemetry>=1.7.0->agent-framework-core) (0.57b0)\n",
            "Requirement already satisfied: opentelemetry-instrumentation-fastapi~=0.57b0 in c:\\users\\kinfeylo\\appdata\\local\\miniforge3\\envs\\agentenv\\lib\\site-packages (from azure-monitor-opentelemetry>=1.7.0->agent-framework-core) (0.57b0)\n",
            "Requirement already satisfied: opentelemetry-instrumentation-flask~=0.57b0 in c:\\users\\kinfeylo\\appdata\\local\\miniforge3\\envs\\agentenv\\lib\\site-packages (from azure-monitor-opentelemetry>=1.7.0->agent-framework-core) (0.57b0)\n",
            "Requirement already satisfied: opentelemetry-instrumentation-psycopg2~=0.57b0 in c:\\users\\kinfeylo\\appdata\\local\\miniforge3\\envs\\agentenv\\lib\\site-packages (from azure-monitor-opentelemetry>=1.7.0->agent-framework-core) (0.57b0)\n",
            "Requirement already satisfied: opentelemetry-instrumentation-requests~=0.57b0 in c:\\users\\kinfeylo\\appdata\\local\\miniforge3\\envs\\agentenv\\lib\\site-packages (from azure-monitor-opentelemetry>=1.7.0->agent-framework-core) (0.57b0)\n",
            "Requirement already satisfied: opentelemetry-instrumentation-urllib~=0.57b0 in c:\\users\\kinfeylo\\appdata\\local\\miniforge3\\envs\\agentenv\\lib\\site-packages (from azure-monitor-opentelemetry>=1.7.0->agent-framework-core) (0.57b0)\n",
            "Requirement already satisfied: opentelemetry-instrumentation-urllib3~=0.57b0 in c:\\users\\kinfeylo\\appdata\\local\\miniforge3\\envs\\agentenv\\lib\\site-packages (from azure-monitor-opentelemetry>=1.7.0->agent-framework-core) (0.57b0)\n",
            "Requirement already satisfied: opentelemetry-resource-detector-azure~=0.1.5 in c:\\users\\kinfeylo\\appdata\\local\\miniforge3\\envs\\agentenv\\lib\\site-packages (from azure-monitor-opentelemetry>=1.7.0->agent-framework-core) (0.1.5)\n",
            "Requirement already satisfied: fixedint==0.1.6 in c:\\users\\kinfeylo\\appdata\\local\\miniforge3\\envs\\agentenv\\lib\\site-packages (from azure-monitor-opentelemetry-exporter>=1.0.0b41->agent-framework-core) (0.1.6)\n",
            "Requirement already satisfied: msrest>=0.6.10 in c:\\users\\kinfeylo\\appdata\\local\\miniforge3\\envs\\agentenv\\lib\\site-packages (from azure-monitor-opentelemetry-exporter>=1.0.0b41->agent-framework-core) (0.7.1)\n",
            "Requirement already satisfied: psutil<8,>=5.9 in c:\\users\\kinfeylo\\appdata\\local\\miniforge3\\envs\\agentenv\\lib\\site-packages (from azure-monitor-opentelemetry-exporter>=1.0.0b41->agent-framework-core) (7.0.0)\n",
            "Requirement already satisfied: importlib-metadata<8.8.0,>=6.0 in c:\\users\\kinfeylo\\appdata\\local\\miniforge3\\envs\\agentenv\\lib\\site-packages (from opentelemetry-api>=1.24->agent-framework-core) (8.7.0)\n",
            "Requirement already satisfied: zipp>=3.20 in c:\\users\\kinfeylo\\appdata\\local\\miniforge3\\envs\\agentenv\\lib\\site-packages (from importlib-metadata<8.8.0,>=6.0->opentelemetry-api>=1.24->agent-framework-core) (3.23.0)\n",
            "Requirement already satisfied: opentelemetry-instrumentation-wsgi==0.57b0 in c:\\users\\kinfeylo\\appdata\\local\\miniforge3\\envs\\agentenv\\lib\\site-packages (from opentelemetry-instrumentation-django~=0.57b0->azure-monitor-opentelemetry>=1.7.0->agent-framework-core) (0.57b0)\n",
            "Requirement already satisfied: opentelemetry-instrumentation==0.57b0 in c:\\users\\kinfeylo\\appdata\\local\\miniforge3\\envs\\agentenv\\lib\\site-packages (from opentelemetry-instrumentation-django~=0.57b0->azure-monitor-opentelemetry>=1.7.0->agent-framework-core) (0.57b0)\n",
            "Requirement already satisfied: opentelemetry-semantic-conventions==0.57b0 in c:\\users\\kinfeylo\\appdata\\local\\miniforge3\\envs\\agentenv\\lib\\site-packages (from opentelemetry-instrumentation-django~=0.57b0->azure-monitor-opentelemetry>=1.7.0->agent-framework-core) (0.57b0)\n",
            "Requirement already satisfied: opentelemetry-util-http==0.57b0 in c:\\users\\kinfeylo\\appdata\\local\\miniforge3\\envs\\agentenv\\lib\\site-packages (from opentelemetry-instrumentation-django~=0.57b0->azure-monitor-opentelemetry>=1.7.0->agent-framework-core) (0.57b0)\n",
            "Requirement already satisfied: packaging>=18.0 in c:\\users\\kinfeylo\\appdata\\local\\miniforge3\\envs\\agentenv\\lib\\site-packages (from opentelemetry-instrumentation==0.57b0->opentelemetry-instrumentation-django~=0.57b0->azure-monitor-opentelemetry>=1.7.0->agent-framework-core) (25.0)\n",
            "Requirement already satisfied: wrapt<2.0.0,>=1.0.0 in c:\\users\\kinfeylo\\appdata\\local\\miniforge3\\envs\\agentenv\\lib\\site-packages (from opentelemetry-instrumentation==0.57b0->opentelemetry-instrumentation-django~=0.57b0->azure-monitor-opentelemetry>=1.7.0->agent-framework-core) (1.17.3)\n",
            "Requirement already satisfied: opentelemetry-instrumentation-asgi==0.57b0 in c:\\users\\kinfeylo\\appdata\\local\\miniforge3\\envs\\agentenv\\lib\\site-packages (from opentelemetry-instrumentation-fastapi~=0.57b0->azure-monitor-opentelemetry>=1.7.0->agent-framework-core) (0.57b0)\n",
            "Requirement already satisfied: asgiref~=3.0 in c:\\users\\kinfeylo\\appdata\\local\\miniforge3\\envs\\agentenv\\lib\\site-packages (from opentelemetry-instrumentation-asgi==0.57b0->opentelemetry-instrumentation-fastapi~=0.57b0->azure-monitor-opentelemetry>=1.7.0->agent-framework-core) (3.9.1)\n",
            "Requirement already satisfied: opentelemetry-instrumentation-dbapi==0.57b0 in c:\\users\\kinfeylo\\appdata\\local\\miniforge3\\envs\\agentenv\\lib\\site-packages (from opentelemetry-instrumentation-psycopg2~=0.57b0->azure-monitor-opentelemetry>=1.7.0->agent-framework-core) (0.57b0)\n",
            "Requirement already satisfied: cffi>=1.14 in c:\\users\\kinfeylo\\appdata\\local\\miniforge3\\envs\\agentenv\\lib\\site-packages (from cryptography>=2.5->azure-identity<2,>=1->agent-framework-core) (1.17.1)\n",
            "Requirement already satisfied: pycparser in c:\\users\\kinfeylo\\appdata\\local\\miniforge3\\envs\\agentenv\\lib\\site-packages (from cffi>=1.14->cryptography>=2.5->azure-identity<2,>=1->agent-framework-core) (2.22)\n",
            "Requirement already satisfied: anyio>=4.5 in c:\\users\\kinfeylo\\appdata\\local\\miniforge3\\envs\\agentenv\\lib\\site-packages (from mcp>=1.13->mcp[ws]>=1.13->agent-framework-core) (4.10.0)\n",
            "Requirement already satisfied: httpx-sse>=0.4 in c:\\users\\kinfeylo\\appdata\\local\\miniforge3\\envs\\agentenv\\lib\\site-packages (from mcp>=1.13->mcp[ws]>=1.13->agent-framework-core) (0.4.1)\n",
            "Requirement already satisfied: httpx>=0.27.1 in c:\\users\\kinfeylo\\appdata\\local\\miniforge3\\envs\\agentenv\\lib\\site-packages (from mcp>=1.13->mcp[ws]>=1.13->agent-framework-core) (0.28.1)\n",
            "Requirement already satisfied: jsonschema>=4.20.0 in c:\\users\\kinfeylo\\appdata\\local\\miniforge3\\envs\\agentenv\\lib\\site-packages (from mcp>=1.13->mcp[ws]>=1.13->agent-framework-core) (4.25.1)\n",
            "Requirement already satisfied: python-multipart>=0.0.9 in c:\\users\\kinfeylo\\appdata\\local\\miniforge3\\envs\\agentenv\\lib\\site-packages (from mcp>=1.13->mcp[ws]>=1.13->agent-framework-core) (0.0.20)\n",
            "Requirement already satisfied: pywin32>=310 in c:\\users\\kinfeylo\\appdata\\local\\miniforge3\\envs\\agentenv\\lib\\site-packages (from mcp>=1.13->mcp[ws]>=1.13->agent-framework-core) (311)\n",
            "Requirement already satisfied: sse-starlette>=1.6.1 in c:\\users\\kinfeylo\\appdata\\local\\miniforge3\\envs\\agentenv\\lib\\site-packages (from mcp>=1.13->mcp[ws]>=1.13->agent-framework-core) (3.0.2)\n",
            "Requirement already satisfied: starlette>=0.27 in c:\\users\\kinfeylo\\appdata\\local\\miniforge3\\envs\\agentenv\\lib\\site-packages (from mcp>=1.13->mcp[ws]>=1.13->agent-framework-core) (0.47.3)\n",
            "Requirement already satisfied: uvicorn>=0.31.1 in c:\\users\\kinfeylo\\appdata\\local\\miniforge3\\envs\\agentenv\\lib\\site-packages (from mcp>=1.13->mcp[ws]>=1.13->agent-framework-core) (0.35.0)\n",
            "Requirement already satisfied: idna>=2.8 in c:\\users\\kinfeylo\\appdata\\local\\miniforge3\\envs\\agentenv\\lib\\site-packages (from anyio>=4.5->mcp>=1.13->mcp[ws]>=1.13->agent-framework-core) (3.10)\n",
            "Requirement already satisfied: sniffio>=1.1 in c:\\users\\kinfeylo\\appdata\\local\\miniforge3\\envs\\agentenv\\lib\\site-packages (from anyio>=4.5->mcp>=1.13->mcp[ws]>=1.13->agent-framework-core) (1.3.1)\n",
            "Requirement already satisfied: certifi in c:\\users\\kinfeylo\\appdata\\local\\miniforge3\\envs\\agentenv\\lib\\site-packages (from httpx>=0.27.1->mcp>=1.13->mcp[ws]>=1.13->agent-framework-core) (2025.8.3)\n",
            "Requirement already satisfied: httpcore==1.* in c:\\users\\kinfeylo\\appdata\\local\\miniforge3\\envs\\agentenv\\lib\\site-packages (from httpx>=0.27.1->mcp>=1.13->mcp[ws]>=1.13->agent-framework-core) (1.0.9)\n",
            "Requirement already satisfied: h11>=0.16 in c:\\users\\kinfeylo\\appdata\\local\\miniforge3\\envs\\agentenv\\lib\\site-packages (from httpcore==1.*->httpx>=0.27.1->mcp>=1.13->mcp[ws]>=1.13->agent-framework-core) (0.16.0)\n",
            "Requirement already satisfied: attrs>=22.2.0 in c:\\users\\kinfeylo\\appdata\\local\\miniforge3\\envs\\agentenv\\lib\\site-packages (from jsonschema>=4.20.0->mcp>=1.13->mcp[ws]>=1.13->agent-framework-core) (25.3.0)\n",
            "Requirement already satisfied: jsonschema-specifications>=2023.03.6 in c:\\users\\kinfeylo\\appdata\\local\\miniforge3\\envs\\agentenv\\lib\\site-packages (from jsonschema>=4.20.0->mcp>=1.13->mcp[ws]>=1.13->agent-framework-core) (2025.4.1)\n",
            "Requirement already satisfied: referencing>=0.28.4 in c:\\users\\kinfeylo\\appdata\\local\\miniforge3\\envs\\agentenv\\lib\\site-packages (from jsonschema>=4.20.0->mcp>=1.13->mcp[ws]>=1.13->agent-framework-core) (0.36.2)\n",
            "Requirement already satisfied: rpds-py>=0.7.1 in c:\\users\\kinfeylo\\appdata\\local\\miniforge3\\envs\\agentenv\\lib\\site-packages (from jsonschema>=4.20.0->mcp>=1.13->mcp[ws]>=1.13->agent-framework-core) (0.27.1)\n",
            "Requirement already satisfied: websockets>=15.0.1 in c:\\users\\kinfeylo\\appdata\\local\\miniforge3\\envs\\agentenv\\lib\\site-packages (from mcp[ws]>=1.13->agent-framework-core) (15.0.1)\n",
            "Requirement already satisfied: PyJWT<3,>=1.0.0 in c:\\users\\kinfeylo\\appdata\\local\\miniforge3\\envs\\agentenv\\lib\\site-packages (from PyJWT[crypto]<3,>=1.0.0->msal>=1.30.0->azure-identity<2,>=1->agent-framework-core) (2.10.1)\n",
            "Requirement already satisfied: charset_normalizer<4,>=2 in c:\\users\\kinfeylo\\appdata\\local\\miniforge3\\envs\\agentenv\\lib\\site-packages (from requests>=2.21.0->azure-core>=1.31.0->azure-identity<2,>=1->agent-framework-core) (3.4.3)\n",
            "Requirement already satisfied: urllib3<3,>=1.21.1 in c:\\users\\kinfeylo\\appdata\\local\\miniforge3\\envs\\agentenv\\lib\\site-packages (from requests>=2.21.0->azure-core>=1.31.0->azure-identity<2,>=1->agent-framework-core) (2.5.0)\n",
            "Requirement already satisfied: isodate>=0.6.0 in c:\\users\\kinfeylo\\appdata\\local\\miniforge3\\envs\\agentenv\\lib\\site-packages (from msrest>=0.6.10->azure-monitor-opentelemetry-exporter>=1.0.0b41->agent-framework-core) (0.7.2)\n",
            "Requirement already satisfied: requests-oauthlib>=0.5.0 in c:\\users\\kinfeylo\\appdata\\local\\miniforge3\\envs\\agentenv\\lib\\site-packages (from msrest>=0.6.10->azure-monitor-opentelemetry-exporter>=1.0.0b41->agent-framework-core) (2.0.0)\n",
            "Requirement already satisfied: distro<2,>=1.7.0 in c:\\users\\kinfeylo\\appdata\\local\\miniforge3\\envs\\agentenv\\lib\\site-packages (from openai>=1.99.0->agent-framework-core) (1.9.0)\n",
            "Requirement already satisfied: jiter<1,>=0.4.0 in c:\\users\\kinfeylo\\appdata\\local\\miniforge3\\envs\\agentenv\\lib\\site-packages (from openai>=1.99.0->agent-framework-core) (0.10.0)\n",
            "Requirement already satisfied: tqdm>4 in c:\\users\\kinfeylo\\appdata\\local\\miniforge3\\envs\\agentenv\\lib\\site-packages (from openai>=1.99.0->agent-framework-core) (4.67.1)\n",
            "Requirement already satisfied: googleapis-common-protos~=1.57 in c:\\users\\kinfeylo\\appdata\\local\\miniforge3\\envs\\agentenv\\lib\\site-packages (from opentelemetry-exporter-otlp-proto-grpc>=1.36.0->agent-framework-core) (1.70.0)\n",
            "Requirement already satisfied: grpcio<2.0.0,>=1.63.2 in c:\\users\\kinfeylo\\appdata\\local\\miniforge3\\envs\\agentenv\\lib\\site-packages (from opentelemetry-exporter-otlp-proto-grpc>=1.36.0->agent-framework-core) (1.74.0)\n",
            "Requirement already satisfied: opentelemetry-exporter-otlp-proto-common==1.36.0 in c:\\users\\kinfeylo\\appdata\\local\\miniforge3\\envs\\agentenv\\lib\\site-packages (from opentelemetry-exporter-otlp-proto-grpc>=1.36.0->agent-framework-core) (1.36.0)\n",
            "Requirement already satisfied: opentelemetry-proto==1.36.0 in c:\\users\\kinfeylo\\appdata\\local\\miniforge3\\envs\\agentenv\\lib\\site-packages (from opentelemetry-exporter-otlp-proto-grpc>=1.36.0->agent-framework-core) (1.36.0)\n",
            "Requirement already satisfied: protobuf<7.0,>=5.0 in c:\\users\\kinfeylo\\appdata\\local\\miniforge3\\envs\\agentenv\\lib\\site-packages (from opentelemetry-proto==1.36.0->opentelemetry-exporter-otlp-proto-grpc>=1.36.0->agent-framework-core) (5.29.5)\n",
            "Requirement already satisfied: oauthlib>=3.0.0 in c:\\users\\kinfeylo\\appdata\\local\\miniforge3\\envs\\agentenv\\lib\\site-packages (from requests-oauthlib>=0.5.0->msrest>=0.6.10->azure-monitor-opentelemetry-exporter>=1.0.0b41->agent-framework-core) (3.3.1)\n",
            "Requirement already satisfied: colorama in c:\\users\\kinfeylo\\appdata\\local\\miniforge3\\envs\\agentenv\\lib\\site-packages (from tqdm>4->openai>=1.99.0->agent-framework-core) (0.4.6)\n",
            "Requirement already satisfied: click>=7.0 in c:\\users\\kinfeylo\\appdata\\local\\miniforge3\\envs\\agentenv\\lib\\site-packages (from uvicorn>=0.31.1->mcp>=1.13->mcp[ws]>=1.13->agent-framework-core) (8.2.1)\n"
          ]
        }
      ],
      "source": [
        "! pip install agent-framework-core  -U"
      ]
    },
    {
      "cell_type": "code",
      "execution_count": 1,
      "id": "c0df8a52",
      "metadata": {},
      "outputs": [],
      "source": [
        "# 📚 Exploring Agentic Frameworks - Basic Agent Example\n",
        "# This example demonstrates core concepts of the Microsoft Agent Framework\n",
        "\n",
        "# 📦 Import Required Libraries\n",
        "import os                     # For environment variable access\n",
        "from random import randint    # For generating random selections\n",
        "\n",
        "from dotenv import load_dotenv  # For loading .env configuration files"
      ]
    },
    {
      "cell_type": "code",
      "execution_count": 3,
      "id": "151e0314",
      "metadata": {},
      "outputs": [],
      "source": [
        "# 🤖 Import Core Agent Framework Components\n",
        "# ChatAgent: The main conversational agent class\n",
        "# OpenAIChatClient: Client for connecting to OpenAI-compatible APIs\n",
        "from agent_framework import ChatAgent\n",
        "from agent_framework.openai import OpenAIChatClient"
      ]
    },
    {
      "cell_type": "code",
      "execution_count": 4,
      "id": "a6141584",
      "metadata": {},
      "outputs": [
        {
          "data": {
            "text/plain": [
              "True"
            ]
          },
          "execution_count": 4,
          "metadata": {},
          "output_type": "execute_result"
        }
      ],
      "source": [
        "# 🔧 Initialize Environment Configuration\n",
        "# Load environment variables from .env file\n",
        "# This enables secure storage of API keys and endpoints\n",
        "load_dotenv()"
      ]
    },
    {
      "cell_type": "code",
      "execution_count": 5,
      "id": "a6507f83",
      "metadata": {},
      "outputs": [],
      "source": [
        "# 🛠️ Tool Function: Random Destination Generator\n",
        "# This demonstrates how to create tools that agents can use\n",
        "# Tools extend the agent's capabilities beyond just conversation\n",
        "def get_random_destination() -> str:\n",
        "    \"\"\"Get a random vacation destination.\n",
        "    \n",
        "    This function serves as a tool that the agent can call when it needs\n",
        "    to suggest a random destination for travel planning.\n",
        "    \n",
        "    Returns:\n",
        "        str: A randomly selected destination from the predefined list\n",
        "    \"\"\"\n",
        "    # Curated list of popular vacation destinations worldwide\n",
        "    destinations = [\n",
        "        \"Barcelona, Spain\",\n",
        "        \"Paris, France\", \n",
        "        \"Berlin, Germany\",\n",
        "        \"Tokyo, Japan\",\n",
        "        \"Sydney, Australia\",\n",
        "        \"New York, USA\",\n",
        "        \"Cairo, Egypt\",\n",
        "        \"Cape Town, South Africa\",\n",
        "        \"Rio de Janeiro, Brazil\",\n",
        "        \"Bali, Indonesia\",\n",
        "        \"Lucknow, India\"\n",
        "    ]\n",
        "    # Return a randomly selected destination\n",
        "    return destinations[randint(0, len(destinations) - 1)]"
      ]
    },
    {
      "cell_type": "code",
      "execution_count": 6,
      "id": "5d4f0568",
      "metadata": {},
      "outputs": [],
      "source": [
        "# 🔗 Create OpenAI Chat Client\n",
        "# This demonstrates how to connect to GitHub Models (OpenAI-compatible API)\n",
        "# The client handles all communication with the AI model\n",
        "openai_chat_client = OpenAIChatClient(\n",
        "    base_url=os.environ.get(\"GITHUB_ENDPOINT\"),    # API endpoint URL\n",
        "    api_key=os.environ.get(\"GITHUB_TOKEN\"),        # Authentication token\n",
        "    model_id=os.environ.get(\"GITHUB_MODEL_ID\")  # Model identifier (e.g., gpt-4o-mini)\n",
        ")"
      ]
    },
    {
      "cell_type": "code",
      "execution_count": 7,
      "id": "cf5a4800",
      "metadata": {},
      "outputs": [],
      "source": [
        "# 🤖 Create the Basic Agent\n",
        "# This demonstrates the core agent creation pattern in the framework\n",
        "# Key components: chat client, instructions, and tools\n",
        "agent = ChatAgent(\n",
        "    chat_client=openai_chat_client,  # The AI model client for generating responses\n",
        "    instructions=\"You are a helpful AI Agent that can help plan vacations for customers at random destinations.\",  # System prompt defining agent behavior\n",
        "    tools=[get_random_destination]   # List of available tools the agent can use\n",
        ")"
      ]
    },
    {
      "cell_type": "code",
      "execution_count": 8,
      "id": "be18ac4f",
      "metadata": {},
      "outputs": [],
      "source": [
        "thread = agent.get_new_thread()"
      ]
    },
    {
      "cell_type": "code",
      "execution_count": 9,
      "id": "772e9481",
      "metadata": {},
      "outputs": [],
      "source": [
        "response1 = await agent.run(\"Plan me a day trip\",thread= thread)"
      ]
    },
    {
      "cell_type": "code",
      "execution_count": 11,
      "id": "a731b547",
      "metadata": {},
      "outputs": [
        {
          "name": "stdout",
          "output_type": "stream",
          "text": [
            "Travel plan:\n",
            "Your day trip is planned for Cairo, Egypt! Here's a suggested itinerary for an exciting day:\n",
            "\n",
            "### Morning:\n",
            "- **Breakfast**: Start your day with traditional Egyptian breakfast at a local café. Try some \"foul\" (fava beans) and \"ta'ameya\" (Egyptian falafel).\n",
            "- **Visit the Pyramids of Giza**: Head to the Giza Plateau to explore the iconic Pyramids of Khufu, Khafre, and Menkaure. Don’t forget to take a photo with the Sphinx!\n",
            "\n",
            "### Midday:\n",
            "- **Lunch**: Enjoy a meal at a nearby restaurant that serves authentic Egyptian cuisine. Try dishes like koshari or grilled kebabs.\n",
            "- **Egyptian Museum**: Spend your afternoon at the Egyptian Museum in Tahrir Square, where you can see ancient artifacts, including treasures from King Tutankhamun.\n",
            "\n",
            "### Afternoon:\n",
            "- **Khan El Khalili Bazaar**: Explore the bustling market in Islamic Cairo for souvenirs, spices, and a taste of local life. Grab a mint tea at one of the traditional coffee shops.\n",
            "\n",
            "### Evening:\n",
            "- **Dinner**: Dine at a rooftop restaurant overlooking the Nile River, enjoying the view of the river and city lights.\n",
            "- **Nile River Felucca Ride**: End your day with a relaxing felucca boat ride on the Nile for a peaceful reflection on your day.\n",
            "\n",
            "### Tips:\n",
            "- Stay hydrated and wear comfortable shoes for walking.\n",
            "- Be mindful of your belongings, especially in crowded areas.\n",
            "\n",
            "Enjoy your day trip to Cairo!\n"
          ]
        }
      ],
      "source": [
        "\n",
        "last_message = response1.messages[-1]\n",
        "text_content = last_message.contents[0].text\n",
        "print(\"Travel plan:\")\n",
        "print(text_content)"
      ]
    },
    {
      "cell_type": "code",
      "execution_count": 12,
      "id": "7d3fe00a",
      "metadata": {},
      "outputs": [],
      "source": [
        "response2 = await agent.run(\"I don't like that destination. Plan me another vacation.\",thread= thread)"
      ]
    },
    {
      "cell_type": "code",
      "execution_count": 13,
      "id": "ba50c92d",
      "metadata": {},
      "outputs": [
        {
          "name": "stdout",
          "output_type": "stream",
          "text": [
            "Change plan:\n",
            "Your new vacation destination is Barcelona, Spain! Here's a suggested itinerary for your visit:\n",
            "\n",
            "### Day 1: Arrival in Barcelona\n",
            "- **Morning**: Arrive in Barcelona and check into your hotel. Enjoy breakfast at a nearby café with churros and hot chocolate.\n",
            "- **Afternoon**: Visit the iconic **Sagrada Familia**. Marvel at Gaudí's architectural masterpiece and explore its stunning interiors.\n",
            "- **Evening**: Stroll through **Park Güell**, another of Gaudí's creations. Enjoy the whimsical designs and beautiful views of the city.\n",
            "\n",
            "### Day 2: Exploring the City\n",
            "- **Morning**: Head to **La Rambla** for a leisurely walk. Stop by the **Boqueria Market** for fresh fruit and local delicacies.\n",
            "- **Afternoon**: Visit the **Gothic Quarter** (Barri Gòtic), where you can explore narrow medieval streets, the Barcelona Cathedral, and small shops.\n",
            "- **Evening**: Dine at a tapas bar and try various dishes like patatas bravas, jamón ibérico, and pan con tomate.\n",
            "\n",
            "### Day 3: Culture and Relaxation\n",
            "- **Morning**: Visit the **Picasso Museum** to see a collection of the artist's works. \n",
            "- **Afternoon**: Spend some time at **Barceloneta Beach**. Relax on the sand, swim, or enjoy beachfront restaurants.\n",
            "- **Evening**: Experience the local nightlife at one of the trendy bars or clubs in the **El Born** district.\n",
            "\n",
            "### Day 4: Day Trip Option\n",
            "- Consider a day trip to **Montserrat** to see the stunning mountain range and monastery. Alternatively, visit the picturesque town of **Sitges** along the coast.\n",
            "\n",
            "### Tips:\n",
            "- Use the metro and buses for easy transportation around the city.\n",
            "- Check the opening hours for attractions in advance.\n",
            "\n",
            "Enjoy your vacation in Barcelona!\n"
          ]
        }
      ],
      "source": [
        "last_message = response2.messages[-1]\n",
        "text_content = last_message.contents[0].text\n",
        "print(\"Change plan:\")\n",
        "print(text_content)"
      ]
    }
  ],
  "metadata": {
    "kernelspec": {
      "display_name": "venv",
      "language": "python",
      "name": "python3"
    },
    "language_info": {
      "codemirror_mode": {
        "name": "ipython",
        "version": 3
      },
      "file_extension": ".py",
      "mimetype": "text/x-python",
      "name": "python",
      "nbconvert_exporter": "python",
      "pygments_lexer": "ipython3",
      "version": "3.13.4"
    },
    "polyglot_notebook": {
      "kernelInfo": {
        "defaultKernelName": "csharp",
        "items": [
          {
            "aliases": [],
            "name": "csharp"
          }
        ]
      }
    }
  },
  "nbformat": 4,
  "nbformat_minor": 5
}
